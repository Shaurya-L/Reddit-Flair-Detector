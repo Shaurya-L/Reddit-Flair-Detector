{
 "cells": [
  {
   "cell_type": "code",
   "execution_count": 39,
   "metadata": {},
   "outputs": [],
   "source": [
    "# Libraries\n",
    "import pandas as pd\n",
    "\n",
    "import re\n",
    "import praw\n",
    "import pickle\n",
    "\n",
    "import nltk\n",
    "from nltk.corpus import stopwords\n",
    "\n",
    "from sklearn.model_selection import train_test_split\n",
    "from sklearn.naive_bayes import MultinomialNB\n",
    "from sklearn.svm import SVC\n",
    "from sklearn.pipeline import Pipeline\n",
    "from sklearn.feature_extraction.text import TfidfTransformer\n",
    "from sklearn.feature_extraction.text import CountVectorizer\n",
    "from sklearn.metrics import classification_report\n",
    "from sklearn.metrics import accuracy_score, confusion_matrix\n",
    "from sklearn.linear_model import SGDClassifier\n",
    "from sklearn.linear_model import LogisticRegression\n",
    "from sklearn.ensemble import RandomForestClassifier\n",
    "from sklearn.neural_network import MLPClassifier\n",
    "from sklearn.ensemble import AdaBoostClassifier\n",
    "from sklearn.ensemble import GradientBoostingClassifier\n",
    "from sklearn.neighbors import KNeighborsClassifier"
   ]
  },
  {
   "cell_type": "markdown",
   "metadata": {},
   "source": [
    "### Fetching the Data"
   ]
  },
  {
   "cell_type": "code",
   "execution_count": 40,
   "metadata": {},
   "outputs": [],
   "source": [
    "data = pd.read_csv('Final Reddit India Data.csv')"
   ]
  },
  {
   "cell_type": "code",
   "execution_count": 41,
   "metadata": {},
   "outputs": [
    {
     "data": {
      "text/plain": [
       "(2218, 8)"
      ]
     },
     "execution_count": 41,
     "metadata": {},
     "output_type": "execute_result"
    }
   ],
   "source": [
    "data.shape"
   ]
  },
  {
   "cell_type": "code",
   "execution_count": 42,
   "metadata": {},
   "outputs": [
    {
     "data": {
      "text/html": [
       "<div>\n",
       "<style scoped>\n",
       "    .dataframe tbody tr th:only-of-type {\n",
       "        vertical-align: middle;\n",
       "    }\n",
       "\n",
       "    .dataframe tbody tr th {\n",
       "        vertical-align: top;\n",
       "    }\n",
       "\n",
       "    .dataframe thead th {\n",
       "        text-align: right;\n",
       "    }\n",
       "</style>\n",
       "<table border=\"1\" class=\"dataframe\">\n",
       "  <thead>\n",
       "    <tr style=\"text-align: right;\">\n",
       "      <th></th>\n",
       "      <th>Post_Flair</th>\n",
       "      <th>Post_Title</th>\n",
       "      <th>Post_ID</th>\n",
       "      <th>Post_Score</th>\n",
       "      <th>Post_URL</th>\n",
       "      <th>Post_Body</th>\n",
       "      <th>Number_of_Comments_on_Post</th>\n",
       "      <th>Post_Comments</th>\n",
       "    </tr>\n",
       "  </thead>\n",
       "  <tbody>\n",
       "    <tr>\n",
       "      <th>0</th>\n",
       "      <td>AMA</td>\n",
       "      <td>Healthcare Experts in an AMA on low count of C...</td>\n",
       "      <td>fqbie6</td>\n",
       "      <td>2235</td>\n",
       "      <td>https://i.imgur.com/dII91mh.jpg</td>\n",
       "      <td>NaN</td>\n",
       "      <td>318</td>\n",
       "      <td>As Physician working in a corporate hospital,...</td>\n",
       "    </tr>\n",
       "    <tr>\n",
       "      <th>1</th>\n",
       "      <td>AMA</td>\n",
       "      <td>I am an exmuslim. AMA!</td>\n",
       "      <td>fw2u16</td>\n",
       "      <td>147</td>\n",
       "      <td>https://www.reddit.com/r/india/comments/fw2u16...</td>\n",
       "      <td>Hi!  \\n\\n\\nI am an in-the-closet exmuslim who...</td>\n",
       "      <td>259</td>\n",
       "      <td>What are the attitudes among your friends/fam...</td>\n",
       "    </tr>\n",
       "    <tr>\n",
       "      <th>2</th>\n",
       "      <td>AMA</td>\n",
       "      <td>Hi, I’m Dr. Roshan Radhakrishnan, a doctor, an...</td>\n",
       "      <td>fk649f</td>\n",
       "      <td>813</td>\n",
       "      <td>https://i.redd.it/vf1ak8axs8n41.jpg</td>\n",
       "      <td>NaN</td>\n",
       "      <td>411</td>\n",
       "      <td>Please remember that top level comments are r...</td>\n",
       "    </tr>\n",
       "    <tr>\n",
       "      <th>3</th>\n",
       "      <td>AMA</td>\n",
       "      <td>Casual AMA: we are group of friends who met th...</td>\n",
       "      <td>fmxz3j</td>\n",
       "      <td>29</td>\n",
       "      <td>https://www.reddit.com/r/india/comments/fmxz3j...</td>\n",
       "      <td>Hello, r/india we are few old members of this ...</td>\n",
       "      <td>78</td>\n",
       "      <td>Are here since 2013. _Reddit age: 15D._ **PRE...</td>\n",
       "    </tr>\n",
       "    <tr>\n",
       "      <th>4</th>\n",
       "      <td>AMA</td>\n",
       "      <td>AMA. Indian living in North Italy in the coron...</td>\n",
       "      <td>fg3mdn</td>\n",
       "      <td>98</td>\n",
       "      <td>https://www.reddit.com/r/india/comments/fg3mdn...</td>\n",
       "      <td>Hi guys. I live in Milan and thought I'd try d...</td>\n",
       "      <td>48</td>\n",
       "      <td>According to news, the virus kill rate in Ita...</td>\n",
       "    </tr>\n",
       "  </tbody>\n",
       "</table>\n",
       "</div>"
      ],
      "text/plain": [
       "  Post_Flair                                         Post_Title Post_ID  \\\n",
       "0        AMA  Healthcare Experts in an AMA on low count of C...  fqbie6   \n",
       "1        AMA                             I am an exmuslim. AMA!  fw2u16   \n",
       "2        AMA  Hi, I’m Dr. Roshan Radhakrishnan, a doctor, an...  fk649f   \n",
       "3        AMA  Casual AMA: we are group of friends who met th...  fmxz3j   \n",
       "4        AMA  AMA. Indian living in North Italy in the coron...  fg3mdn   \n",
       "\n",
       "   Post_Score                                           Post_URL  \\\n",
       "0        2235                    https://i.imgur.com/dII91mh.jpg   \n",
       "1         147  https://www.reddit.com/r/india/comments/fw2u16...   \n",
       "2         813                https://i.redd.it/vf1ak8axs8n41.jpg   \n",
       "3          29  https://www.reddit.com/r/india/comments/fmxz3j...   \n",
       "4          98  https://www.reddit.com/r/india/comments/fg3mdn...   \n",
       "\n",
       "                                           Post_Body  \\\n",
       "0                                                NaN   \n",
       "1   Hi!  \\n\\n\\nI am an in-the-closet exmuslim who...   \n",
       "2                                                NaN   \n",
       "3  Hello, r/india we are few old members of this ...   \n",
       "4  Hi guys. I live in Milan and thought I'd try d...   \n",
       "\n",
       "   Number_of_Comments_on_Post  \\\n",
       "0                         318   \n",
       "1                         259   \n",
       "2                         411   \n",
       "3                          78   \n",
       "4                          48   \n",
       "\n",
       "                                       Post_Comments  \n",
       "0   As Physician working in a corporate hospital,...  \n",
       "1   What are the attitudes among your friends/fam...  \n",
       "2   Please remember that top level comments are r...  \n",
       "3   Are here since 2013. _Reddit age: 15D._ **PRE...  \n",
       "4   According to news, the virus kill rate in Ita...  "
      ]
     },
     "execution_count": 42,
     "metadata": {},
     "output_type": "execute_result"
    }
   ],
   "source": [
    "data.head()"
   ]
  },
  {
   "cell_type": "markdown",
   "metadata": {},
   "source": [
    "#### We cannot directly apply out machine learning or deep learning models directly on raw text. Data needs to be preprocessed that is data should be converted to a cleaner form so that it can be fed to our model."
   ]
  },
  {
   "cell_type": "markdown",
   "metadata": {},
   "source": [
    "### Text Cleaning"
   ]
  },
  {
   "cell_type": "code",
   "execution_count": 43,
   "metadata": {},
   "outputs": [],
   "source": [
    "replace_by_space = re.compile('[/(){}\\[\\]\\|@,;]')\n",
    "replace_symbol = re.compile('[^0-9a-z #+_]')\n",
    "STOPWORDS = set(stopwords.words('english'))\n",
    "\n",
    "def clean_text(text):\n",
    "    text = text.lower()  # Converting text to lowercase\n",
    "    text = replace_by_space.sub(' ', text)  # Replacing symbols mentioned in replace_by_space by space in text\n",
    "    text = replace_symbol.sub('', text)  # Deleting symbols mentioned in replace_symbol from text\n",
    "    text = ' '.join(word for word in text.split() if word not in STOPWORDS)  # Removing STOPWORDS from text\n",
    "    \n",
    "    return text\n",
    "\n",
    "# Stop word is a commonly used word (such as “the”, “a”, “an”, “in”) that a search engine has been programmed to \n",
    "# ignore, both when indexing entries for searching and when retrieving them as the result of a search query."
   ]
  },
  {
   "cell_type": "markdown",
   "metadata": {},
   "source": [
    "### Data Preprocessing"
   ]
  },
  {
   "cell_type": "code",
   "execution_count": 44,
   "metadata": {},
   "outputs": [],
   "source": [
    "# Converting data to string\n",
    "data['Post_Title'] = data['Post_Title'].apply(str)\n",
    "data['Post_Body'] = data['Post_Body'].apply(str)\n",
    "data['Post_Comments'] = data['Post_Comments'].apply(str)\n",
    "\n",
    "# Applying clean text function on data to clean the data\n",
    "data['Post_Title'] = data['Post_Title'].apply(clean_text)\n",
    "data['Post_Body'] = data['Post_Body'].apply(clean_text)\n",
    "data['Post_Comments'] = data['Post_Comments'].apply(clean_text)\n",
    "\n",
    "# Combining Title, Comment, URL, Body features of post and creating a combined feature\n",
    "Combined_Features = data[\"Post_Title\"] + data[\"Post_Comments\"] + data[\"Post_URL\"] + data[\"Post_Body\"]\n",
    "data_clean = data.assign(Combined_Features = Combined_Features)"
   ]
  },
  {
   "cell_type": "code",
   "execution_count": 45,
   "metadata": {},
   "outputs": [
    {
     "data": {
      "text/plain": [
       "(2218, 9)"
      ]
     },
     "execution_count": 45,
     "metadata": {},
     "output_type": "execute_result"
    }
   ],
   "source": [
    "data_clean.shape"
   ]
  },
  {
   "cell_type": "code",
   "execution_count": 46,
   "metadata": {},
   "outputs": [
    {
     "data": {
      "text/html": [
       "<div>\n",
       "<style scoped>\n",
       "    .dataframe tbody tr th:only-of-type {\n",
       "        vertical-align: middle;\n",
       "    }\n",
       "\n",
       "    .dataframe tbody tr th {\n",
       "        vertical-align: top;\n",
       "    }\n",
       "\n",
       "    .dataframe thead th {\n",
       "        text-align: right;\n",
       "    }\n",
       "</style>\n",
       "<table border=\"1\" class=\"dataframe\">\n",
       "  <thead>\n",
       "    <tr style=\"text-align: right;\">\n",
       "      <th></th>\n",
       "      <th>Post_Flair</th>\n",
       "      <th>Post_Title</th>\n",
       "      <th>Post_ID</th>\n",
       "      <th>Post_Score</th>\n",
       "      <th>Post_URL</th>\n",
       "      <th>Post_Body</th>\n",
       "      <th>Number_of_Comments_on_Post</th>\n",
       "      <th>Post_Comments</th>\n",
       "      <th>Combined_Features</th>\n",
       "    </tr>\n",
       "  </thead>\n",
       "  <tbody>\n",
       "    <tr>\n",
       "      <th>0</th>\n",
       "      <td>AMA</td>\n",
       "      <td>healthcare experts ama low count covid19 cases...</td>\n",
       "      <td>fqbie6</td>\n",
       "      <td>2235</td>\n",
       "      <td>https://i.imgur.com/dII91mh.jpg</td>\n",
       "      <td>nan</td>\n",
       "      <td>318</td>\n",
       "      <td>physician working corporate hospital ill clari...</td>\n",
       "      <td>healthcare experts ama low count covid19 cases...</td>\n",
       "    </tr>\n",
       "    <tr>\n",
       "      <th>1</th>\n",
       "      <td>AMA</td>\n",
       "      <td>exmuslim ama</td>\n",
       "      <td>fw2u16</td>\n",
       "      <td>147</td>\n",
       "      <td>https://www.reddit.com/r/india/comments/fw2u16...</td>\n",
       "      <td>hi inthecloset exmuslim whos deeply sympatheti...</td>\n",
       "      <td>259</td>\n",
       "      <td>attitudes among friends family towards sunni s...</td>\n",
       "      <td>exmuslim amaattitudes among friends family tow...</td>\n",
       "    </tr>\n",
       "    <tr>\n",
       "      <th>2</th>\n",
       "      <td>AMA</td>\n",
       "      <td>hi im dr roshan radhakrishnan doctor avid writ...</td>\n",
       "      <td>fk649f</td>\n",
       "      <td>813</td>\n",
       "      <td>https://i.redd.it/vf1ak8axs8n41.jpg</td>\n",
       "      <td>nan</td>\n",
       "      <td>411</td>\n",
       "      <td>please remember top level comments reserved qu...</td>\n",
       "      <td>hi im dr roshan radhakrishnan doctor avid writ...</td>\n",
       "    </tr>\n",
       "    <tr>\n",
       "      <th>3</th>\n",
       "      <td>AMA</td>\n",
       "      <td>casual ama group friends met r india</td>\n",
       "      <td>fmxz3j</td>\n",
       "      <td>29</td>\n",
       "      <td>https://www.reddit.com/r/india/comments/fmxz3j...</td>\n",
       "      <td>hello r india old members community many since...</td>\n",
       "      <td>78</td>\n",
       "      <td>since 2013 _reddit age 15d_ press x doubt comm...</td>\n",
       "      <td>casual ama group friends met r indiasince 2013...</td>\n",
       "    </tr>\n",
       "    <tr>\n",
       "      <th>4</th>\n",
       "      <td>AMA</td>\n",
       "      <td>ama indian living north italy corona virus lock</td>\n",
       "      <td>fg3mdn</td>\n",
       "      <td>98</td>\n",
       "      <td>https://www.reddit.com/r/india/comments/fg3mdn...</td>\n",
       "      <td>hi guys live milan thought id try ama since ne...</td>\n",
       "      <td>48</td>\n",
       "      <td>according news virus kill rate italy high due ...</td>\n",
       "      <td>ama indian living north italy corona virus loc...</td>\n",
       "    </tr>\n",
       "  </tbody>\n",
       "</table>\n",
       "</div>"
      ],
      "text/plain": [
       "  Post_Flair                                         Post_Title Post_ID  \\\n",
       "0        AMA  healthcare experts ama low count covid19 cases...  fqbie6   \n",
       "1        AMA                                       exmuslim ama  fw2u16   \n",
       "2        AMA  hi im dr roshan radhakrishnan doctor avid writ...  fk649f   \n",
       "3        AMA               casual ama group friends met r india  fmxz3j   \n",
       "4        AMA    ama indian living north italy corona virus lock  fg3mdn   \n",
       "\n",
       "   Post_Score                                           Post_URL  \\\n",
       "0        2235                    https://i.imgur.com/dII91mh.jpg   \n",
       "1         147  https://www.reddit.com/r/india/comments/fw2u16...   \n",
       "2         813                https://i.redd.it/vf1ak8axs8n41.jpg   \n",
       "3          29  https://www.reddit.com/r/india/comments/fmxz3j...   \n",
       "4          98  https://www.reddit.com/r/india/comments/fg3mdn...   \n",
       "\n",
       "                                           Post_Body  \\\n",
       "0                                                nan   \n",
       "1  hi inthecloset exmuslim whos deeply sympatheti...   \n",
       "2                                                nan   \n",
       "3  hello r india old members community many since...   \n",
       "4  hi guys live milan thought id try ama since ne...   \n",
       "\n",
       "   Number_of_Comments_on_Post  \\\n",
       "0                         318   \n",
       "1                         259   \n",
       "2                         411   \n",
       "3                          78   \n",
       "4                          48   \n",
       "\n",
       "                                       Post_Comments  \\\n",
       "0  physician working corporate hospital ill clari...   \n",
       "1  attitudes among friends family towards sunni s...   \n",
       "2  please remember top level comments reserved qu...   \n",
       "3  since 2013 _reddit age 15d_ press x doubt comm...   \n",
       "4  according news virus kill rate italy high due ...   \n",
       "\n",
       "                                   Combined_Features  \n",
       "0  healthcare experts ama low count covid19 cases...  \n",
       "1  exmuslim amaattitudes among friends family tow...  \n",
       "2  hi im dr roshan radhakrishnan doctor avid writ...  \n",
       "3  casual ama group friends met r indiasince 2013...  \n",
       "4  ama indian living north italy corona virus loc...  "
      ]
     },
     "execution_count": 46,
     "metadata": {},
     "output_type": "execute_result"
    }
   ],
   "source": [
    "data_clean.head()"
   ]
  },
  {
   "cell_type": "markdown",
   "metadata": {},
   "source": [
    "#### Removing NaN/NA values from data"
   ]
  },
  {
   "cell_type": "code",
   "execution_count": 47,
   "metadata": {},
   "outputs": [],
   "source": [
    "data.fillna(\"\", inplace = True)\n",
    "# inplace = True means values would be updated in the data itself without creating a new copy of the data"
   ]
  },
  {
   "cell_type": "code",
   "execution_count": 48,
   "metadata": {},
   "outputs": [],
   "source": [
    "reddit_flairs = ['AMA', 'Policy/Economy', 'Non Political', 'Science/Technology', 'Politics', 'Coronavirus', 'AskIndia', 'Business/Finance', 'Food', 'Photography', 'Sports', '[R]eddiquette']"
   ]
  },
  {
   "cell_type": "markdown",
   "metadata": {},
   "source": [
    "### Trying Different Machine Learning Models\n",
    "\n",
    "#### We'll be implementing the following machine learning algorithms on our dataset:\n",
    " - Logistic Regression\n",
    " - Naive Bayes\n",
    " - Linear SVM\n",
    " - SGDC\n",
    " - Random Forest\n",
    " - MLP Classifier\n",
    " - ADA Boost\n",
    " - Gradient Boost\n",
    " - KNN"
   ]
  },
  {
   "cell_type": "code",
   "execution_count": 49,
   "metadata": {},
   "outputs": [],
   "source": [
    "# Logistic Regression\n",
    "def logistic_reg(X_train, X_test, y_train, y_test):\n",
    "    logreg = Pipeline([('vect', CountVectorizer()), ('tfidf', TfidfTransformer()), ('clf', LogisticRegression(n_jobs = 1, C = 1e5)),])\n",
    "    logreg.fit(X_train, y_train)\n",
    "    \n",
    "    y_pred = logreg.predict(X_test)\n",
    "\n",
    "    print('accuracy %s' % accuracy_score(y_pred, y_test))\n",
    "    print(classification_report(y_test, y_pred,target_names = reddit_flairs))"
   ]
  },
  {
   "cell_type": "code",
   "execution_count": 50,
   "metadata": {},
   "outputs": [],
   "source": [
    "# Naive Bayes\n",
    "def nb_classifier(X_train, X_test, y_train, y_test):\n",
    "    nb = Pipeline([('vect', CountVectorizer()), ('tfidf', TfidfTransformer()), ('clf', MultinomialNB()), ])\n",
    "    nb.fit(X_train, y_train)\n",
    "\n",
    "    y_pred = nb.predict(X_test)\n",
    "\n",
    "    print('accuracy %s' % accuracy_score(y_pred, y_test))\n",
    "    print(classification_report(y_test, y_pred,target_names = reddit_flairs))"
   ]
  },
  {
   "cell_type": "code",
   "execution_count": 51,
   "metadata": {},
   "outputs": [],
   "source": [
    "# Linear SVM\n",
    "def linear_svm(X_train, X_test, y_train, y_test):\n",
    "    svm = Pipeline([('vect', CountVectorizer()), ('tfidf', TfidfTransformer()), ('clf', SVC(gamma = 'scale', kernel = 'linear')),])\n",
    "    svm.fit(X_train, y_train)\n",
    "\n",
    "    y_pred = svm.predict(X_test)\n",
    "\n",
    "    print('accuracy %s' % accuracy_score(y_pred, y_test))\n",
    "    print(classification_report(y_test, y_pred,target_names = reddit_flairs))"
   ]
  },
  {
   "cell_type": "code",
   "execution_count": 52,
   "metadata": {},
   "outputs": [],
   "source": [
    "# SGDC\n",
    "def SGDC(X_train, X_test, y_train, y_test):\n",
    "    sgd = Pipeline([('vect', CountVectorizer()), ('tfidf', TfidfTransformer()), ('clf', SGDClassifier(loss = 'hinge', penalty = 'l2', alpha = 1e-3, random_state = 42, max_iter = 5, tol = None)),])\n",
    "    sgd.fit(X_train, y_train)\n",
    "\n",
    "    y_pred = sgd.predict(X_test)\n",
    "\n",
    "    print('accuracy %s' % accuracy_score(y_pred, y_test))\n",
    "    print(classification_report(y_test, y_pred,target_names = reddit_flairs))"
   ]
  },
  {
   "cell_type": "code",
   "execution_count": 53,
   "metadata": {},
   "outputs": [],
   "source": [
    "# Random Forest\n",
    "def randomforest(X_train, X_test, y_train, y_test):\n",
    "    ranfor = Pipeline([('vect', CountVectorizer()), ('tfidf', TfidfTransformer()), ('clf', RandomForestClassifier(n_estimators = 1000, random_state = 42)),])\n",
    "    ranfor.fit(X_train, y_train)\n",
    "\n",
    "    y_pred = ranfor.predict(X_test)\n",
    "\n",
    "    print('accuracy %s' % accuracy_score(y_pred, y_test))\n",
    "    print(classification_report(y_test, y_pred,target_names = reddit_flairs))"
   ]
  },
  {
   "cell_type": "code",
   "execution_count": 54,
   "metadata": {},
   "outputs": [],
   "source": [
    "# MLP Classifier\n",
    "def mlpclassifier(X_train, X_test, y_train, y_test):  \n",
    "    mlp = Pipeline([('vect', CountVectorizer()), ('tfidf', TfidfTransformer()), ('clf', MLPClassifier(hidden_layer_sizes = (30, 30, 30))),])\n",
    "    mlp.fit(X_train, y_train)\n",
    "\n",
    "    y_pred = mlp.predict(X_test)\n",
    "\n",
    "    print('accuracy %s' % accuracy_score(y_pred, y_test))\n",
    "    print(classification_report(y_test, y_pred,target_names = reddit_flairs))"
   ]
  },
  {
   "cell_type": "code",
   "execution_count": 55,
   "metadata": {},
   "outputs": [],
   "source": [
    "# ADA Boost\n",
    "def adaboost(X_train, X_test, y_train, y_test):\n",
    "    ada_b = Pipeline([('vect', CountVectorizer()), ('tfidf', TfidfTransformer()), ('clf', AdaBoostClassifier(n_estimators = 200, learning_rate = 0.75))])\n",
    "    ada_b.fit(X_train, y_train)\n",
    "    \n",
    "    y_pred = ada_b.predict(X_test)\n",
    "    \n",
    "    print('accuracy %s' % accuracy_score(y_pred, y_test))\n",
    "    print(classification_report(y_test, y_pred,target_names = reddit_flairs))"
   ]
  },
  {
   "cell_type": "code",
   "execution_count": 56,
   "metadata": {},
   "outputs": [],
   "source": [
    "# Gradient Boost\n",
    "def gradientboost(X_train, X_test, y_train, y_test):\n",
    "    grad_b = Pipeline([('vect', CountVectorizer()), ('tfidf', TfidfTransformer()), ('clf', GradientBoostingClassifier(n_estimators = 100, learning_rate = 0.1))])\n",
    "    grad_b.fit(X_train, y_train)\n",
    "    \n",
    "    y_pred = grad_b.predict(X_test)\n",
    "    \n",
    "    print('accuracy %s' % accuracy_score(y_pred, y_test))\n",
    "    print(classification_report(y_test, y_pred,target_names = reddit_flairs))"
   ]
  },
  {
   "cell_type": "code",
   "execution_count": 57,
   "metadata": {},
   "outputs": [],
   "source": [
    "# KNN Classifier\n",
    "def knnclassifier(X_train, X_test, y_train, y_test):\n",
    "    knn = Pipeline([('vect', CountVectorizer()), ('tfidf', TfidfTransformer()), ('clf', KNeighborsClassifier(n_neighbors = 5))])\n",
    "    knn.fit(X_train, y_train)\n",
    "    \n",
    "    y_pred = knn.predict(X_test)\n",
    "        \n",
    "    print('accuracy %s' % accuracy_score(y_pred, y_test))\n",
    "    print(classification_report(y_test, y_pred,target_names = reddit_flairs))"
   ]
  },
  {
   "cell_type": "markdown",
   "metadata": {},
   "source": [
    "#### In most machine learning projects the data to be used is highly unlikely to be in the ideal format for producing the best performing model. There are quite often a number of transformational steps such as encoding categorical variables, feature scaling and normalisation that need to be performed. \n",
    "#### However, in a typical machine learning workflow we will need to apply all these transformations at least twice. Once when training the model and again on any new data we want to predict on. Scikit-learn pipelines are a tool to simplify this process. They have several key benefits:\n",
    " - They make your workflow much easier to read and understand.\n",
    " - They enforce the implementation and order of steps in your project.\n",
    " - These in turn make your work much more reproducible."
   ]
  },
  {
   "cell_type": "code",
   "execution_count": 58,
   "metadata": {},
   "outputs": [],
   "source": [
    "def train_test(X, y):\n",
    "     \n",
    "    X_train, X_test, y_train, y_test = train_test_split(X, y, test_size = 0.25, random_state = 10)\n",
    "    \n",
    "    print(\"Results of Naive Bayes Classifier\")\n",
    "    nb_classifier(X_train, X_test, y_train, y_test)\n",
    "    \n",
    "    print(\"Results of Linear Support Vector Machine\")\n",
    "    linear_svm(X_train, X_test, y_train, y_test)\n",
    "    \n",
    "    print(\"Results of SGDC\")\n",
    "    SGDC(X_train, X_test, y_train, y_test)\n",
    "    \n",
    "    print(\"Results of Logistic Regression\")\n",
    "    logistic_reg(X_train, X_test, y_train, y_test)\n",
    "    \n",
    "    print(\"Results of Random Forest\")\n",
    "    randomforest(X_train, X_test, y_train, y_test)\n",
    "    \n",
    "    print(\"Results of MLP Classifier\")\n",
    "    mlpclassifier(X_train, X_test, y_train, y_test)\n",
    "    \n",
    "    print(\"Results of AdaBoost Classifier\")\n",
    "    adaboost(X_train, X_test, y_train, y_test)\n",
    "    \n",
    "    print(\"Results of GradientBoost Classifier\")\n",
    "    gradientboost(X_train, X_test, y_train, y_test)\n",
    "    \n",
    "    print(\"Results of KNN Classifier\")\n",
    "    knnclassifier(X_train, X_test, y_train, y_test)"
   ]
  },
  {
   "cell_type": "code",
   "execution_count": 59,
   "metadata": {
    "scrolled": false
   },
   "outputs": [],
   "source": [
    "to_predict = data_clean['Post_Flair']\n",
    "\n",
    "combined = data_clean['Combined_Features']\n",
    "comments = data_clean['Post_Comments']\n",
    "title = data_clean['Post_Title']\n",
    "body = data_clean['Post_Body']\n",
    "url = data_clean['Post_URL']"
   ]
  },
  {
   "cell_type": "markdown",
   "metadata": {},
   "source": [
    "#### The below code prints the test accuracy for all the ML models taken into consideration when only the post title is considered as a feature"
   ]
  },
  {
   "cell_type": "code",
   "execution_count": 60,
   "metadata": {
    "scrolled": false
   },
   "outputs": [
    {
     "name": "stdout",
     "output_type": "stream",
     "text": [
      "Flair Detection using Title as Feature\n",
      "Results of Naive Bayes Classifier\n",
      "accuracy 0.6774774774774774\n",
      "                    precision    recall  f1-score   support\n",
      "\n",
      "               AMA       0.85      0.89      0.87        57\n",
      "    Policy/Economy       0.52      0.72      0.60        40\n",
      "     Non Political       0.59      0.35      0.44        54\n",
      "Science/Technology       0.74      0.89      0.81        54\n",
      "          Politics       0.70      0.80      0.74        49\n",
      "       Coronavirus       0.66      0.98      0.78        41\n",
      "          AskIndia       0.81      0.81      0.81        48\n",
      "  Business/Finance       0.39      0.38      0.38        53\n",
      "              Food       0.64      0.56      0.60        52\n",
      "       Photography       0.68      0.67      0.67        48\n",
      "            Sports       0.88      0.57      0.69        53\n",
      "     [R]eddiquette       0.00      0.00      0.00         6\n",
      "\n",
      "          accuracy                           0.68       555\n",
      "         macro avg       0.62      0.63      0.62       555\n",
      "      weighted avg       0.68      0.68      0.67       555\n",
      "\n",
      "Results of Linear Support Vector Machine\n"
     ]
    },
    {
     "name": "stderr",
     "output_type": "stream",
     "text": [
      "/Users/shauryaluthra/anaconda3/lib/python3.7/site-packages/sklearn/metrics/classification.py:1437: UndefinedMetricWarning: Precision and F-score are ill-defined and being set to 0.0 in labels with no predicted samples.\n",
      "  'precision', 'predicted', average, warn_for)\n"
     ]
    },
    {
     "name": "stdout",
     "output_type": "stream",
     "text": [
      "accuracy 0.7099099099099099\n",
      "                    precision    recall  f1-score   support\n",
      "\n",
      "               AMA       0.96      0.91      0.94        57\n",
      "    Policy/Economy       0.90      0.68      0.77        40\n",
      "     Non Political       0.44      0.52      0.47        54\n",
      "Science/Technology       0.91      0.89      0.90        54\n",
      "          Politics       0.88      0.73      0.80        49\n",
      "       Coronavirus       0.91      1.00      0.95        41\n",
      "          AskIndia       0.93      0.83      0.88        48\n",
      "  Business/Finance       0.34      0.51      0.41        53\n",
      "              Food       0.69      0.63      0.66        52\n",
      "       Photography       0.53      0.60      0.56        48\n",
      "            Sports       0.79      0.62      0.69        53\n",
      "     [R]eddiquette       0.00      0.00      0.00         6\n",
      "\n",
      "          accuracy                           0.71       555\n",
      "         macro avg       0.69      0.66      0.67       555\n",
      "      weighted avg       0.74      0.71      0.72       555\n",
      "\n",
      "Results of SGDC\n",
      "accuracy 0.7027027027027027\n",
      "                    precision    recall  f1-score   support\n",
      "\n",
      "               AMA       0.82      0.95      0.88        57\n",
      "    Policy/Economy       0.84      0.68      0.75        40\n",
      "     Non Political       0.53      0.43      0.47        54\n",
      "Science/Technology       0.79      0.91      0.84        54\n",
      "          Politics       0.75      0.82      0.78        49\n",
      "       Coronavirus       0.82      1.00      0.90        41\n",
      "          AskIndia       0.80      0.85      0.83        48\n",
      "  Business/Finance       0.37      0.36      0.37        53\n",
      "              Food       0.64      0.65      0.65        52\n",
      "       Photography       0.59      0.54      0.57        48\n",
      "            Sports       0.71      0.66      0.69        53\n",
      "     [R]eddiquette       1.00      0.17      0.29         6\n",
      "\n",
      "          accuracy                           0.70       555\n",
      "         macro avg       0.72      0.67      0.67       555\n",
      "      weighted avg       0.70      0.70      0.69       555\n",
      "\n",
      "Results of Logistic Regression\n"
     ]
    },
    {
     "name": "stderr",
     "output_type": "stream",
     "text": [
      "/Users/shauryaluthra/anaconda3/lib/python3.7/site-packages/sklearn/metrics/classification.py:1437: UndefinedMetricWarning: Precision and F-score are ill-defined and being set to 0.0 in labels with no predicted samples.\n",
      "  'precision', 'predicted', average, warn_for)\n",
      "/Users/shauryaluthra/anaconda3/lib/python3.7/site-packages/sklearn/linear_model/logistic.py:432: FutureWarning: Default solver will be changed to 'lbfgs' in 0.22. Specify a solver to silence this warning.\n",
      "  FutureWarning)\n",
      "/Users/shauryaluthra/anaconda3/lib/python3.7/site-packages/sklearn/linear_model/logistic.py:469: FutureWarning: Default multi_class will be changed to 'auto' in 0.22. Specify the multi_class option to silence this warning.\n",
      "  \"this warning.\", FutureWarning)\n"
     ]
    },
    {
     "name": "stdout",
     "output_type": "stream",
     "text": [
      "accuracy 0.6990990990990991\n",
      "                    precision    recall  f1-score   support\n",
      "\n",
      "               AMA       0.95      0.93      0.94        57\n",
      "    Policy/Economy       0.83      0.72      0.77        40\n",
      "     Non Political       0.46      0.46      0.46        54\n",
      "Science/Technology       0.80      0.89      0.84        54\n",
      "          Politics       0.84      0.76      0.80        49\n",
      "       Coronavirus       0.87      1.00      0.93        41\n",
      "          AskIndia       0.80      0.83      0.82        48\n",
      "  Business/Finance       0.32      0.34      0.33        53\n",
      "              Food       0.63      0.63      0.63        52\n",
      "       Photography       0.54      0.58      0.56        48\n",
      "            Sports       0.74      0.66      0.70        53\n",
      "     [R]eddiquette       1.00      0.17      0.29         6\n",
      "\n",
      "          accuracy                           0.70       555\n",
      "         macro avg       0.73      0.66      0.67       555\n",
      "      weighted avg       0.71      0.70      0.70       555\n",
      "\n",
      "Results of Random Forest\n",
      "accuracy 0.7171171171171171\n",
      "                    precision    recall  f1-score   support\n",
      "\n",
      "               AMA       0.98      0.91      0.95        57\n",
      "    Policy/Economy       0.88      0.72      0.79        40\n",
      "     Non Political       0.52      0.44      0.48        54\n",
      "Science/Technology       0.89      0.89      0.89        54\n",
      "          Politics       0.87      0.84      0.85        49\n",
      "       Coronavirus       0.89      1.00      0.94        41\n",
      "          AskIndia       0.86      0.77      0.81        48\n",
      "  Business/Finance       0.32      0.58      0.41        53\n",
      "              Food       0.74      0.62      0.67        52\n",
      "       Photography       0.64      0.58      0.61        48\n",
      "            Sports       0.73      0.66      0.69        53\n",
      "     [R]eddiquette       0.00      0.00      0.00         6\n",
      "\n",
      "          accuracy                           0.72       555\n",
      "         macro avg       0.69      0.67      0.68       555\n",
      "      weighted avg       0.74      0.72      0.72       555\n",
      "\n",
      "Results of MLP Classifier\n"
     ]
    },
    {
     "name": "stderr",
     "output_type": "stream",
     "text": [
      "/Users/shauryaluthra/anaconda3/lib/python3.7/site-packages/sklearn/metrics/classification.py:1437: UndefinedMetricWarning: Precision and F-score are ill-defined and being set to 0.0 in labels with no predicted samples.\n",
      "  'precision', 'predicted', average, warn_for)\n"
     ]
    },
    {
     "name": "stdout",
     "output_type": "stream",
     "text": [
      "accuracy 0.527927927927928\n",
      "                    precision    recall  f1-score   support\n",
      "\n",
      "               AMA       0.85      0.58      0.69        57\n",
      "    Policy/Economy       0.43      0.47      0.45        40\n",
      "     Non Political       0.39      0.37      0.38        54\n",
      "Science/Technology       0.69      0.54      0.60        54\n",
      "          Politics       0.58      0.61      0.59        49\n",
      "       Coronavirus       0.47      0.83      0.60        41\n",
      "          AskIndia       0.78      0.73      0.75        48\n",
      "  Business/Finance       0.27      0.40      0.32        53\n",
      "              Food       0.50      0.40      0.45        52\n",
      "       Photography       0.54      0.56      0.55        48\n",
      "            Sports       0.65      0.45      0.53        53\n",
      "     [R]eddiquette       0.00      0.00      0.00         6\n",
      "\n",
      "          accuracy                           0.53       555\n",
      "         macro avg       0.51      0.50      0.49       555\n",
      "      weighted avg       0.56      0.53      0.53       555\n",
      "\n",
      "Results of AdaBoost Classifier\n",
      "accuracy 0.5585585585585585\n",
      "                    precision    recall  f1-score   support\n",
      "\n",
      "               AMA       0.89      0.89      0.89        57\n",
      "    Policy/Economy       1.00      0.68      0.81        40\n",
      "     Non Political       0.23      0.96      0.37        54\n",
      "Science/Technology       0.98      0.74      0.84        54\n",
      "          Politics       0.80      0.80      0.80        49\n",
      "       Coronavirus       1.00      0.02      0.05        41\n",
      "          AskIndia       1.00      0.62      0.77        48\n",
      "  Business/Finance       0.25      0.02      0.04        53\n",
      "              Food       0.86      0.62      0.72        52\n",
      "       Photography       0.39      0.42      0.40        48\n",
      "            Sports       0.55      0.30      0.39        53\n",
      "     [R]eddiquette       1.00      0.17      0.29         6\n",
      "\n",
      "          accuracy                           0.56       555\n",
      "         macro avg       0.75      0.52      0.53       555\n",
      "      weighted avg       0.71      0.56      0.55       555\n",
      "\n",
      "Results of GradientBoost Classifier\n",
      "accuracy 0.6576576576576577\n",
      "                    precision    recall  f1-score   support\n",
      "\n",
      "               AMA       0.96      0.84      0.90        57\n",
      "    Policy/Economy       0.87      0.68      0.76        40\n",
      "     Non Political       0.21      0.57      0.31        54\n",
      "Science/Technology       0.92      0.85      0.88        54\n",
      "          Politics       0.93      0.80      0.86        49\n",
      "       Coronavirus       0.91      1.00      0.95        41\n",
      "          AskIndia       0.85      0.73      0.79        48\n",
      "  Business/Finance       0.34      0.23      0.27        53\n",
      "              Food       0.82      0.60      0.69        52\n",
      "       Photography       0.58      0.54      0.56        48\n",
      "            Sports       0.90      0.53      0.67        53\n",
      "     [R]eddiquette       0.50      0.17      0.25         6\n",
      "\n",
      "          accuracy                           0.66       555\n",
      "         macro avg       0.73      0.63      0.66       555\n",
      "      weighted avg       0.75      0.66      0.68       555\n",
      "\n",
      "Results of KNN Classifier\n",
      "accuracy 0.4990990990990991\n",
      "                    precision    recall  f1-score   support\n",
      "\n",
      "               AMA       0.54      0.75      0.63        57\n",
      "    Policy/Economy       0.35      0.47      0.40        40\n",
      "     Non Political       0.37      0.46      0.41        54\n",
      "Science/Technology       0.55      0.69      0.61        54\n",
      "          Politics       0.51      0.49      0.50        49\n",
      "       Coronavirus       0.51      0.54      0.52        41\n",
      "          AskIndia       0.60      0.58      0.59        48\n",
      "  Business/Finance       0.45      0.34      0.39        53\n",
      "              Food       0.46      0.31      0.37        52\n",
      "       Photography       0.53      0.48      0.51        48\n",
      "            Sports       0.73      0.42      0.53        53\n",
      "     [R]eddiquette       0.00      0.00      0.00         6\n",
      "\n",
      "          accuracy                           0.50       555\n",
      "         macro avg       0.47      0.46      0.45       555\n",
      "      weighted avg       0.51      0.50      0.49       555\n",
      "\n"
     ]
    },
    {
     "name": "stderr",
     "output_type": "stream",
     "text": [
      "/Users/shauryaluthra/anaconda3/lib/python3.7/site-packages/sklearn/metrics/classification.py:1437: UndefinedMetricWarning: Precision and F-score are ill-defined and being set to 0.0 in labels with no predicted samples.\n",
      "  'precision', 'predicted', average, warn_for)\n"
     ]
    }
   ],
   "source": [
    "print(\"Flair Detection using Title as Feature\")\n",
    "train_test(title, to_predict)"
   ]
  },
  {
   "cell_type": "markdown",
   "metadata": {},
   "source": [
    "#### The below code prints the test accuracy for all the ML models taken into consideration when only the post body is considered as a feature"
   ]
  },
  {
   "cell_type": "code",
   "execution_count": 61,
   "metadata": {
    "scrolled": false
   },
   "outputs": [
    {
     "name": "stdout",
     "output_type": "stream",
     "text": [
      "Flair Detection using Body as Feature\n",
      "Results of Naive Bayes Classifier\n",
      "accuracy 0.32432432432432434\n",
      "                    precision    recall  f1-score   support\n",
      "\n",
      "               AMA       0.89      0.58      0.70        57\n",
      "    Policy/Economy       0.28      0.72      0.40        40\n",
      "     Non Political       0.35      0.61      0.45        54\n",
      "Science/Technology       0.17      0.83      0.28        54\n",
      "          Politics       1.00      0.02      0.04        49\n",
      "       Coronavirus       0.00      0.00      0.00        41\n",
      "          AskIndia       0.92      0.25      0.39        48\n",
      "  Business/Finance       0.50      0.19      0.27        53\n",
      "              Food       1.00      0.02      0.04        52\n",
      "       Photography       0.67      0.25      0.36        48\n",
      "            Sports       0.80      0.08      0.14        53\n",
      "     [R]eddiquette       0.00      0.00      0.00         6\n",
      "\n",
      "          accuracy                           0.32       555\n",
      "         macro avg       0.55      0.30      0.26       555\n",
      "      weighted avg       0.61      0.32      0.28       555\n",
      "\n",
      "Results of Linear Support Vector Machine\n"
     ]
    },
    {
     "name": "stderr",
     "output_type": "stream",
     "text": [
      "/Users/shauryaluthra/anaconda3/lib/python3.7/site-packages/sklearn/metrics/classification.py:1437: UndefinedMetricWarning: Precision and F-score are ill-defined and being set to 0.0 in labels with no predicted samples.\n",
      "  'precision', 'predicted', average, warn_for)\n"
     ]
    },
    {
     "name": "stdout",
     "output_type": "stream",
     "text": [
      "accuracy 0.37657657657657656\n",
      "                    precision    recall  f1-score   support\n",
      "\n",
      "               AMA       0.82      0.63      0.71        57\n",
      "    Policy/Economy       0.30      0.88      0.45        40\n",
      "     Non Political       0.71      0.50      0.59        54\n",
      "Science/Technology       0.17      0.83      0.28        54\n",
      "          Politics       0.75      0.06      0.11        49\n",
      "       Coronavirus       1.00      0.02      0.05        41\n",
      "          AskIndia       1.00      0.38      0.55        48\n",
      "  Business/Finance       0.47      0.26      0.34        53\n",
      "              Food       0.60      0.06      0.11        52\n",
      "       Photography       0.68      0.35      0.47        48\n",
      "            Sports       1.00      0.19      0.32        53\n",
      "     [R]eddiquette       0.00      0.00      0.00         6\n",
      "\n",
      "          accuracy                           0.38       555\n",
      "         macro avg       0.62      0.35      0.33       555\n",
      "      weighted avg       0.67      0.38      0.36       555\n",
      "\n",
      "Results of SGDC\n"
     ]
    },
    {
     "name": "stderr",
     "output_type": "stream",
     "text": [
      "/Users/shauryaluthra/anaconda3/lib/python3.7/site-packages/sklearn/metrics/classification.py:1437: UndefinedMetricWarning: Precision and F-score are ill-defined and being set to 0.0 in labels with no predicted samples.\n",
      "  'precision', 'predicted', average, warn_for)\n"
     ]
    },
    {
     "name": "stdout",
     "output_type": "stream",
     "text": [
      "accuracy 0.3981981981981982\n",
      "                    precision    recall  f1-score   support\n",
      "\n",
      "               AMA       0.62      0.72      0.67        57\n",
      "    Policy/Economy       0.49      0.60      0.54        40\n",
      "     Non Political       0.58      0.57      0.58        54\n",
      "Science/Technology       0.67      0.04      0.07        54\n",
      "          Politics       0.55      0.12      0.20        49\n",
      "       Coronavirus       0.44      0.10      0.16        41\n",
      "          AskIndia       0.92      0.48      0.63        48\n",
      "  Business/Finance       0.62      0.19      0.29        53\n",
      "              Food       0.16      0.83      0.27        52\n",
      "       Photography       0.71      0.42      0.53        48\n",
      "            Sports       0.71      0.32      0.44        53\n",
      "     [R]eddiquette       0.00      0.00      0.00         6\n",
      "\n",
      "          accuracy                           0.40       555\n",
      "         macro avg       0.54      0.37      0.36       555\n",
      "      weighted avg       0.59      0.40      0.39       555\n",
      "\n",
      "Results of Logistic Regression\n"
     ]
    },
    {
     "name": "stderr",
     "output_type": "stream",
     "text": [
      "/Users/shauryaluthra/anaconda3/lib/python3.7/site-packages/sklearn/metrics/classification.py:1437: UndefinedMetricWarning: Precision and F-score are ill-defined and being set to 0.0 in labels with no predicted samples.\n",
      "  'precision', 'predicted', average, warn_for)\n",
      "/Users/shauryaluthra/anaconda3/lib/python3.7/site-packages/sklearn/linear_model/logistic.py:432: FutureWarning: Default solver will be changed to 'lbfgs' in 0.22. Specify a solver to silence this warning.\n",
      "  FutureWarning)\n",
      "/Users/shauryaluthra/anaconda3/lib/python3.7/site-packages/sklearn/linear_model/logistic.py:469: FutureWarning: Default multi_class will be changed to 'auto' in 0.22. Specify the multi_class option to silence this warning.\n",
      "  \"this warning.\", FutureWarning)\n"
     ]
    },
    {
     "name": "stdout",
     "output_type": "stream",
     "text": [
      "accuracy 0.4\n",
      "                    precision    recall  f1-score   support\n",
      "\n",
      "               AMA       0.67      0.68      0.68        57\n",
      "    Policy/Economy       0.45      0.65      0.53        40\n",
      "     Non Political       0.66      0.50      0.57        54\n",
      "Science/Technology       0.18      0.87      0.29        54\n",
      "          Politics       0.71      0.10      0.18        49\n",
      "       Coronavirus       0.28      0.12      0.17        41\n",
      "          AskIndia       0.88      0.48      0.62        48\n",
      "  Business/Finance       0.48      0.23      0.31        53\n",
      "              Food       0.42      0.10      0.16        52\n",
      "       Photography       0.74      0.42      0.53        48\n",
      "            Sports       0.76      0.25      0.37        53\n",
      "     [R]eddiquette       0.00      0.00      0.00         6\n",
      "\n",
      "          accuracy                           0.40       555\n",
      "         macro avg       0.52      0.37      0.37       555\n",
      "      weighted avg       0.56      0.40      0.40       555\n",
      "\n",
      "Results of Random Forest\n"
     ]
    },
    {
     "name": "stderr",
     "output_type": "stream",
     "text": [
      "/Users/shauryaluthra/anaconda3/lib/python3.7/site-packages/sklearn/metrics/classification.py:1437: UndefinedMetricWarning: Precision and F-score are ill-defined and being set to 0.0 in labels with no predicted samples.\n",
      "  'precision', 'predicted', average, warn_for)\n"
     ]
    },
    {
     "name": "stdout",
     "output_type": "stream",
     "text": [
      "accuracy 0.4072072072072072\n",
      "                    precision    recall  f1-score   support\n",
      "\n",
      "               AMA       0.79      0.72      0.75        57\n",
      "    Policy/Economy       0.33      0.75      0.45        40\n",
      "     Non Political       0.74      0.52      0.61        54\n",
      "Science/Technology       0.17      0.83      0.28        54\n",
      "          Politics       0.75      0.06      0.11        49\n",
      "       Coronavirus       0.38      0.15      0.21        41\n",
      "          AskIndia       0.95      0.38      0.54        48\n",
      "  Business/Finance       0.73      0.36      0.48        53\n",
      "              Food       0.60      0.06      0.11        52\n",
      "       Photography       0.78      0.44      0.56        48\n",
      "            Sports       1.00      0.23      0.37        53\n",
      "     [R]eddiquette       0.00      0.00      0.00         6\n",
      "\n",
      "          accuracy                           0.41       555\n",
      "         macro avg       0.60      0.37      0.37       555\n",
      "      weighted avg       0.66      0.41      0.41       555\n",
      "\n",
      "Results of MLP Classifier\n"
     ]
    },
    {
     "name": "stderr",
     "output_type": "stream",
     "text": [
      "/Users/shauryaluthra/anaconda3/lib/python3.7/site-packages/sklearn/metrics/classification.py:1437: UndefinedMetricWarning: Precision and F-score are ill-defined and being set to 0.0 in labels with no predicted samples.\n",
      "  'precision', 'predicted', average, warn_for)\n"
     ]
    },
    {
     "name": "stdout",
     "output_type": "stream",
     "text": [
      "accuracy 0.2972972972972973\n",
      "                    precision    recall  f1-score   support\n",
      "\n",
      "               AMA       0.78      0.51      0.62        57\n",
      "    Policy/Economy       0.43      0.38      0.40        40\n",
      "     Non Political       0.76      0.35      0.48        54\n",
      "Science/Technology       0.17      0.83      0.28        54\n",
      "          Politics       0.20      0.02      0.04        49\n",
      "       Coronavirus       0.33      0.02      0.05        41\n",
      "          AskIndia       0.69      0.38      0.49        48\n",
      "  Business/Finance       0.33      0.21      0.26        53\n",
      "              Food       0.11      0.21      0.14        52\n",
      "       Photography       0.59      0.27      0.37        48\n",
      "            Sports       0.67      0.04      0.07        53\n",
      "     [R]eddiquette       0.00      0.00      0.00         6\n",
      "\n",
      "          accuracy                           0.30       555\n",
      "         macro avg       0.42      0.27      0.27       555\n",
      "      weighted avg       0.46      0.30      0.29       555\n",
      "\n",
      "Results of AdaBoost Classifier\n"
     ]
    },
    {
     "name": "stderr",
     "output_type": "stream",
     "text": [
      "/Users/shauryaluthra/anaconda3/lib/python3.7/site-packages/sklearn/metrics/classification.py:1437: UndefinedMetricWarning: Precision and F-score are ill-defined and being set to 0.0 in labels with no predicted samples.\n",
      "  'precision', 'predicted', average, warn_for)\n"
     ]
    },
    {
     "name": "stdout",
     "output_type": "stream",
     "text": [
      "accuracy 0.2864864864864865\n",
      "                    precision    recall  f1-score   support\n",
      "\n",
      "               AMA       0.93      0.47      0.63        57\n",
      "    Policy/Economy       0.20      0.78      0.32        40\n",
      "     Non Political       0.85      0.31      0.46        54\n",
      "Science/Technology       0.17      0.83      0.28        54\n",
      "          Politics       0.60      0.06      0.11        49\n",
      "       Coronavirus       0.00      0.00      0.00        41\n",
      "          AskIndia       0.48      0.23      0.31        48\n",
      "  Business/Finance       0.50      0.15      0.23        53\n",
      "              Food       0.11      0.04      0.06        52\n",
      "       Photography       0.50      0.12      0.20        48\n",
      "            Sports       0.67      0.15      0.25        53\n",
      "     [R]eddiquette       1.00      0.17      0.29         6\n",
      "\n",
      "          accuracy                           0.29       555\n",
      "         macro avg       0.50      0.28      0.26       555\n",
      "      weighted avg       0.48      0.29      0.27       555\n",
      "\n",
      "Results of GradientBoost Classifier\n",
      "accuracy 0.4126126126126126\n",
      "                    precision    recall  f1-score   support\n",
      "\n",
      "               AMA       0.85      0.61      0.71        57\n",
      "    Policy/Economy       0.28      0.57      0.37        40\n",
      "     Non Political       0.91      0.57      0.70        54\n",
      "Science/Technology       0.18      0.91      0.30        54\n",
      "          Politics       0.50      0.10      0.17        49\n",
      "       Coronavirus       0.09      0.02      0.04        41\n",
      "          AskIndia       0.92      0.46      0.61        48\n",
      "  Business/Finance       0.75      0.40      0.52        53\n",
      "              Food       0.33      0.08      0.12        52\n",
      "       Photography       0.88      0.46      0.60        48\n",
      "            Sports       0.93      0.26      0.41        53\n",
      "     [R]eddiquette       1.00      0.33      0.50         6\n",
      "\n",
      "          accuracy                           0.41       555\n",
      "         macro avg       0.64      0.40      0.42       555\n",
      "      weighted avg       0.62      0.41      0.43       555\n",
      "\n",
      "Results of KNN Classifier\n",
      "accuracy 0.2756756756756757\n",
      "                    precision    recall  f1-score   support\n",
      "\n",
      "               AMA       0.50      0.58      0.54        57\n",
      "    Policy/Economy       0.31      0.40      0.35        40\n",
      "     Non Political       0.46      0.56      0.50        54\n",
      "Science/Technology       0.33      0.02      0.04        54\n",
      "          Politics       0.57      0.08      0.14        49\n",
      "       Coronavirus       0.09      0.63      0.17        41\n",
      "          AskIndia       0.70      0.33      0.45        48\n",
      "  Business/Finance       0.29      0.17      0.21        53\n",
      "              Food       0.40      0.04      0.07        52\n",
      "       Photography       0.38      0.12      0.19        48\n",
      "            Sports       0.71      0.19      0.30        53\n",
      "     [R]eddiquette       0.00      0.00      0.00         6\n",
      "\n",
      "          accuracy                           0.28       555\n",
      "         macro avg       0.40      0.26      0.25       555\n",
      "      weighted avg       0.43      0.28      0.27       555\n",
      "\n"
     ]
    },
    {
     "name": "stderr",
     "output_type": "stream",
     "text": [
      "/Users/shauryaluthra/anaconda3/lib/python3.7/site-packages/sklearn/metrics/classification.py:1437: UndefinedMetricWarning: Precision and F-score are ill-defined and being set to 0.0 in labels with no predicted samples.\n",
      "  'precision', 'predicted', average, warn_for)\n"
     ]
    }
   ],
   "source": [
    "print(\"Flair Detection using Body as Feature\")\n",
    "train_test(body, to_predict)"
   ]
  },
  {
   "cell_type": "markdown",
   "metadata": {},
   "source": [
    "#### The below code prints the test accuracy for all the ML models taken into consideration when only the post url is considered as a feature"
   ]
  },
  {
   "cell_type": "code",
   "execution_count": 62,
   "metadata": {
    "scrolled": false
   },
   "outputs": [
    {
     "name": "stdout",
     "output_type": "stream",
     "text": [
      "Flair Detection using URL as Feature\n",
      "Results of Naive Bayes Classifier\n",
      "accuracy 0.2954954954954955\n",
      "                    precision    recall  f1-score   support\n",
      "\n",
      "               AMA       0.00      0.00      0.00        57\n",
      "    Policy/Economy       0.13      0.95      0.24        40\n",
      "     Non Political       0.71      0.19      0.29        54\n",
      "Science/Technology       0.41      0.74      0.53        54\n",
      "          Politics       0.58      0.31      0.40        49\n",
      "       Coronavirus       0.31      0.27      0.29        41\n",
      "          AskIndia       0.26      0.19      0.22        48\n",
      "  Business/Finance       0.50      0.17      0.25        53\n",
      "              Food       0.66      0.40      0.50        52\n",
      "       Photography       0.64      0.15      0.24        48\n",
      "            Sports       0.80      0.08      0.14        53\n",
      "     [R]eddiquette       0.00      0.00      0.00         6\n",
      "\n",
      "          accuracy                           0.30       555\n",
      "         macro avg       0.42      0.29      0.26       555\n",
      "      weighted avg       0.46      0.30      0.28       555\n",
      "\n",
      "Results of Linear Support Vector Machine\n"
     ]
    },
    {
     "name": "stderr",
     "output_type": "stream",
     "text": [
      "/Users/shauryaluthra/anaconda3/lib/python3.7/site-packages/sklearn/metrics/classification.py:1437: UndefinedMetricWarning: Precision and F-score are ill-defined and being set to 0.0 in labels with no predicted samples.\n",
      "  'precision', 'predicted', average, warn_for)\n"
     ]
    },
    {
     "name": "stdout",
     "output_type": "stream",
     "text": [
      "accuracy 0.3387387387387387\n",
      "                    precision    recall  f1-score   support\n",
      "\n",
      "               AMA       0.00      0.00      0.00        57\n",
      "    Policy/Economy       0.13      0.95      0.24        40\n",
      "     Non Political       0.54      0.24      0.33        54\n",
      "Science/Technology       0.74      0.72      0.73        54\n",
      "          Politics       0.64      0.33      0.43        49\n",
      "       Coronavirus       0.32      0.24      0.28        41\n",
      "          AskIndia       0.26      0.21      0.23        48\n",
      "  Business/Finance       0.43      0.25      0.31        53\n",
      "              Food       0.66      0.52      0.58        52\n",
      "       Photography       0.63      0.25      0.36        48\n",
      "            Sports       0.83      0.19      0.31        53\n",
      "     [R]eddiquette       0.00      0.00      0.00         6\n",
      "\n",
      "          accuracy                           0.34       555\n",
      "         macro avg       0.43      0.32      0.32       555\n",
      "      weighted avg       0.47      0.34      0.34       555\n",
      "\n",
      "Results of SGDC\n",
      "accuracy 0.36936936936936937\n",
      "                    precision    recall  f1-score   support\n",
      "\n",
      "               AMA       0.19      0.95      0.32        57\n",
      "    Policy/Economy       0.00      0.00      0.00        40\n",
      "     Non Political       0.67      0.19      0.29        54\n",
      "Science/Technology       0.59      0.72      0.65        54\n",
      "          Politics       0.73      0.39      0.51        49\n",
      "       Coronavirus       0.32      0.27      0.29        41\n",
      "          AskIndia       0.75      0.12      0.21        48\n",
      "  Business/Finance       0.35      0.17      0.23        53\n",
      "              Food       0.67      0.54      0.60        52\n",
      "       Photography       0.69      0.23      0.34        48\n",
      "            Sports       0.43      0.34      0.38        53\n",
      "     [R]eddiquette       0.00      0.00      0.00         6\n",
      "\n",
      "          accuracy                           0.37       555\n",
      "         macro avg       0.45      0.33      0.32       555\n",
      "      weighted avg       0.49      0.37      0.35       555\n",
      "\n",
      "Results of Logistic Regression\n"
     ]
    },
    {
     "name": "stderr",
     "output_type": "stream",
     "text": [
      "/Users/shauryaluthra/anaconda3/lib/python3.7/site-packages/sklearn/metrics/classification.py:1437: UndefinedMetricWarning: Precision and F-score are ill-defined and being set to 0.0 in labels with no predicted samples.\n",
      "  'precision', 'predicted', average, warn_for)\n",
      "/Users/shauryaluthra/anaconda3/lib/python3.7/site-packages/sklearn/metrics/classification.py:1437: UndefinedMetricWarning: Precision and F-score are ill-defined and being set to 0.0 in labels with no predicted samples.\n",
      "  'precision', 'predicted', average, warn_for)\n",
      "/Users/shauryaluthra/anaconda3/lib/python3.7/site-packages/sklearn/linear_model/logistic.py:432: FutureWarning: Default solver will be changed to 'lbfgs' in 0.22. Specify a solver to silence this warning.\n",
      "  FutureWarning)\n",
      "/Users/shauryaluthra/anaconda3/lib/python3.7/site-packages/sklearn/linear_model/logistic.py:469: FutureWarning: Default multi_class will be changed to 'auto' in 0.22. Specify the multi_class option to silence this warning.\n",
      "  \"this warning.\", FutureWarning)\n"
     ]
    },
    {
     "name": "stdout",
     "output_type": "stream",
     "text": [
      "accuracy 0.34234234234234234\n",
      "                    precision    recall  f1-score   support\n",
      "\n",
      "               AMA       0.00      0.00      0.00        57\n",
      "    Policy/Economy       0.14      0.95      0.24        40\n",
      "     Non Political       0.55      0.22      0.32        54\n",
      "Science/Technology       0.67      0.72      0.70        54\n",
      "          Politics       0.70      0.33      0.44        49\n",
      "       Coronavirus       0.36      0.22      0.27        41\n",
      "          AskIndia       0.31      0.29      0.30        48\n",
      "  Business/Finance       0.37      0.21      0.27        53\n",
      "              Food       0.66      0.52      0.58        52\n",
      "       Photography       0.73      0.23      0.35        48\n",
      "            Sports       0.81      0.25      0.38        53\n",
      "     [R]eddiquette       0.00      0.00      0.00         6\n",
      "\n",
      "          accuracy                           0.34       555\n",
      "         macro avg       0.44      0.33      0.32       555\n",
      "      weighted avg       0.48      0.34      0.35       555\n",
      "\n",
      "Results of Random Forest\n"
     ]
    },
    {
     "name": "stderr",
     "output_type": "stream",
     "text": [
      "/Users/shauryaluthra/anaconda3/lib/python3.7/site-packages/sklearn/metrics/classification.py:1437: UndefinedMetricWarning: Precision and F-score are ill-defined and being set to 0.0 in labels with no predicted samples.\n",
      "  'precision', 'predicted', average, warn_for)\n"
     ]
    },
    {
     "name": "stdout",
     "output_type": "stream",
     "text": [
      "accuracy 0.31351351351351353\n",
      "                    precision    recall  f1-score   support\n",
      "\n",
      "               AMA       0.00      0.00      0.00        57\n",
      "    Policy/Economy       0.00      0.00      0.00        40\n",
      "     Non Political       0.12      0.67      0.21        54\n",
      "Science/Technology       0.59      0.76      0.66        54\n",
      "          Politics       0.43      0.45      0.44        49\n",
      "       Coronavirus       0.25      0.10      0.14        41\n",
      "          AskIndia       0.44      0.25      0.32        48\n",
      "  Business/Finance       0.40      0.23      0.29        53\n",
      "              Food       0.66      0.48      0.56        52\n",
      "       Photography       0.71      0.25      0.37        48\n",
      "            Sports       0.91      0.19      0.31        53\n",
      "     [R]eddiquette       0.00      0.00      0.00         6\n",
      "\n",
      "          accuracy                           0.31       555\n",
      "         macro avg       0.38      0.28      0.27       555\n",
      "      weighted avg       0.41      0.31      0.30       555\n",
      "\n",
      "Results of MLP Classifier\n"
     ]
    },
    {
     "name": "stderr",
     "output_type": "stream",
     "text": [
      "/Users/shauryaluthra/anaconda3/lib/python3.7/site-packages/sklearn/metrics/classification.py:1437: UndefinedMetricWarning: Precision and F-score are ill-defined and being set to 0.0 in labels with no predicted samples.\n",
      "  'precision', 'predicted', average, warn_for)\n"
     ]
    },
    {
     "name": "stdout",
     "output_type": "stream",
     "text": [
      "accuracy 0.25585585585585585\n",
      "                    precision    recall  f1-score   support\n",
      "\n",
      "               AMA       0.00      0.00      0.00        57\n",
      "    Policy/Economy       0.00      0.00      0.00        40\n",
      "     Non Political       0.50      0.19      0.27        54\n",
      "Science/Technology       0.55      0.69      0.61        54\n",
      "          Politics       0.69      0.18      0.29        49\n",
      "       Coronavirus       0.42      0.12      0.19        41\n",
      "          AskIndia       0.57      0.08      0.15        48\n",
      "  Business/Finance       0.11      0.64      0.19        53\n",
      "              Food       0.30      0.46      0.36        52\n",
      "       Photography       0.30      0.19      0.23        48\n",
      "            Sports       0.77      0.19      0.30        53\n",
      "     [R]eddiquette       0.00      0.00      0.00         6\n",
      "\n",
      "          accuracy                           0.26       555\n",
      "         macro avg       0.35      0.23      0.22       555\n",
      "      weighted avg       0.38      0.26      0.24       555\n",
      "\n",
      "Results of AdaBoost Classifier\n"
     ]
    },
    {
     "name": "stderr",
     "output_type": "stream",
     "text": [
      "/Users/shauryaluthra/anaconda3/lib/python3.7/site-packages/sklearn/metrics/classification.py:1437: UndefinedMetricWarning: Precision and F-score are ill-defined and being set to 0.0 in labels with no predicted samples.\n",
      "  'precision', 'predicted', average, warn_for)\n"
     ]
    },
    {
     "name": "stdout",
     "output_type": "stream",
     "text": [
      "accuracy 0.26846846846846845\n",
      "                    precision    recall  f1-score   support\n",
      "\n",
      "               AMA       0.00      0.00      0.00        57\n",
      "    Policy/Economy       0.08      0.03      0.04        40\n",
      "     Non Political       0.12      0.67      0.21        54\n",
      "Science/Technology       0.89      0.61      0.73        54\n",
      "          Politics       0.83      0.31      0.45        49\n",
      "       Coronavirus       0.38      0.20      0.26        41\n",
      "          AskIndia       0.00      0.00      0.00        48\n",
      "  Business/Finance       0.56      0.09      0.16        53\n",
      "              Food       0.29      0.73      0.41        52\n",
      "       Photography       0.18      0.08      0.11        48\n",
      "            Sports       1.00      0.17      0.29        53\n",
      "     [R]eddiquette       0.00      0.00      0.00         6\n",
      "\n",
      "          accuracy                           0.27       555\n",
      "         macro avg       0.36      0.24      0.22       555\n",
      "      weighted avg       0.40      0.27      0.24       555\n",
      "\n",
      "Results of GradientBoost Classifier\n"
     ]
    },
    {
     "name": "stderr",
     "output_type": "stream",
     "text": [
      "/Users/shauryaluthra/anaconda3/lib/python3.7/site-packages/sklearn/metrics/classification.py:1437: UndefinedMetricWarning: Precision and F-score are ill-defined and being set to 0.0 in labels with no predicted samples.\n",
      "  'precision', 'predicted', average, warn_for)\n"
     ]
    },
    {
     "name": "stdout",
     "output_type": "stream",
     "text": [
      "accuracy 0.33153153153153153\n",
      "                    precision    recall  f1-score   support\n",
      "\n",
      "               AMA       0.00      0.00      0.00        57\n",
      "    Policy/Economy       0.00      0.00      0.00        40\n",
      "     Non Political       0.13      0.72      0.22        54\n",
      "Science/Technology       0.88      0.69      0.77        54\n",
      "          Politics       0.46      0.49      0.48        49\n",
      "       Coronavirus       0.30      0.15      0.20        41\n",
      "          AskIndia       0.42      0.27      0.33        48\n",
      "  Business/Finance       0.44      0.26      0.33        53\n",
      "              Food       0.64      0.54      0.58        52\n",
      "       Photography       0.63      0.25      0.36        48\n",
      "            Sports       0.85      0.21      0.33        53\n",
      "     [R]eddiquette       0.00      0.00      0.00         6\n",
      "\n",
      "          accuracy                           0.33       555\n",
      "         macro avg       0.40      0.30      0.30       555\n",
      "      weighted avg       0.43      0.33      0.33       555\n",
      "\n",
      "Results of KNN Classifier\n",
      "accuracy 0.27207207207207207\n",
      "                    precision    recall  f1-score   support\n",
      "\n",
      "               AMA       0.04      0.02      0.02        57\n",
      "    Policy/Economy       0.00      0.00      0.00        40\n",
      "     Non Political       0.14      0.85      0.25        54\n",
      "Science/Technology       0.47      0.70      0.57        54\n",
      "          Politics       0.44      0.24      0.32        49\n",
      "       Coronavirus       0.38      0.15      0.21        41\n",
      "          AskIndia       0.48      0.23      0.31        48\n",
      "  Business/Finance       0.50      0.17      0.25        53\n",
      "              Food       0.56      0.29      0.38        52\n",
      "       Photography       0.64      0.15      0.24        48\n",
      "            Sports       0.86      0.11      0.20        53\n",
      "     [R]eddiquette       0.00      0.00      0.00         6\n",
      "\n",
      "          accuracy                           0.27       555\n",
      "         macro avg       0.38      0.24      0.23       555\n",
      "      weighted avg       0.41      0.27      0.25       555\n",
      "\n"
     ]
    },
    {
     "name": "stderr",
     "output_type": "stream",
     "text": [
      "/Users/shauryaluthra/anaconda3/lib/python3.7/site-packages/sklearn/metrics/classification.py:1437: UndefinedMetricWarning: Precision and F-score are ill-defined and being set to 0.0 in labels with no predicted samples.\n",
      "  'precision', 'predicted', average, warn_for)\n",
      "/Users/shauryaluthra/anaconda3/lib/python3.7/site-packages/sklearn/metrics/classification.py:1437: UndefinedMetricWarning: Precision and F-score are ill-defined and being set to 0.0 in labels with no predicted samples.\n",
      "  'precision', 'predicted', average, warn_for)\n"
     ]
    }
   ],
   "source": [
    "print(\"Flair Detection using URL as Feature\")\n",
    "train_test(url, to_predict)"
   ]
  },
  {
   "cell_type": "markdown",
   "metadata": {},
   "source": [
    "#### The below code prints the test accuracy for all the ML models taken into consideration when only the post comments are considered as a feature"
   ]
  },
  {
   "cell_type": "code",
   "execution_count": 63,
   "metadata": {
    "scrolled": false
   },
   "outputs": [
    {
     "name": "stdout",
     "output_type": "stream",
     "text": [
      "Flair Detection using Comments as Feature\n",
      "Results of Naive Bayes Classifier\n",
      "accuracy 0.41621621621621624\n",
      "                    precision    recall  f1-score   support\n",
      "\n",
      "               AMA       0.25      0.77      0.38        57\n",
      "    Policy/Economy       0.19      0.35      0.24        40\n",
      "     Non Political       0.58      0.39      0.47        54\n",
      "Science/Technology       0.28      0.28      0.28        54\n",
      "          Politics       0.74      0.47      0.58        49\n",
      "       Coronavirus       0.33      0.05      0.09        41\n",
      "          AskIndia       0.96      0.50      0.66        48\n",
      "  Business/Finance       0.51      0.49      0.50        53\n",
      "              Food       0.48      0.52      0.50        52\n",
      "       Photography       0.71      0.42      0.53        48\n",
      "            Sports       0.83      0.28      0.42        53\n",
      "     [R]eddiquette       0.00      0.00      0.00         6\n",
      "\n",
      "          accuracy                           0.42       555\n",
      "         macro avg       0.49      0.38      0.39       555\n",
      "      weighted avg       0.53      0.42      0.42       555\n",
      "\n",
      "Results of Linear Support Vector Machine\n"
     ]
    },
    {
     "name": "stderr",
     "output_type": "stream",
     "text": [
      "/Users/shauryaluthra/anaconda3/lib/python3.7/site-packages/sklearn/metrics/classification.py:1437: UndefinedMetricWarning: Precision and F-score are ill-defined and being set to 0.0 in labels with no predicted samples.\n",
      "  'precision', 'predicted', average, warn_for)\n"
     ]
    },
    {
     "name": "stdout",
     "output_type": "stream",
     "text": [
      "accuracy 0.5135135135135135\n",
      "                    precision    recall  f1-score   support\n",
      "\n",
      "               AMA       0.74      0.60      0.66        57\n",
      "    Policy/Economy       0.27      0.42      0.33        40\n",
      "     Non Political       0.62      0.46      0.53        54\n",
      "Science/Technology       0.40      0.61      0.48        54\n",
      "          Politics       0.65      0.57      0.61        49\n",
      "       Coronavirus       0.18      0.44      0.26        41\n",
      "          AskIndia       0.80      0.58      0.67        48\n",
      "  Business/Finance       0.60      0.47      0.53        53\n",
      "              Food       0.59      0.46      0.52        52\n",
      "       Photography       0.77      0.48      0.59        48\n",
      "            Sports       0.96      0.47      0.63        53\n",
      "     [R]eddiquette       1.00      0.83      0.91         6\n",
      "\n",
      "          accuracy                           0.51       555\n",
      "         macro avg       0.63      0.53      0.56       555\n",
      "      weighted avg       0.62      0.51      0.54       555\n",
      "\n",
      "Results of SGDC\n",
      "accuracy 0.5225225225225225\n",
      "                    precision    recall  f1-score   support\n",
      "\n",
      "               AMA       0.57      0.75      0.65        57\n",
      "    Policy/Economy       0.38      0.23      0.28        40\n",
      "     Non Political       0.57      0.46      0.51        54\n",
      "Science/Technology       0.60      0.33      0.43        54\n",
      "          Politics       0.31      0.71      0.43        49\n",
      "       Coronavirus       0.24      0.12      0.16        41\n",
      "          AskIndia       0.72      0.71      0.72        48\n",
      "  Business/Finance       0.53      0.53      0.53        53\n",
      "              Food       0.55      0.58      0.56        52\n",
      "       Photography       0.57      0.52      0.54        48\n",
      "            Sports       0.77      0.62      0.69        53\n",
      "     [R]eddiquette       0.83      0.83      0.83         6\n",
      "\n",
      "          accuracy                           0.52       555\n",
      "         macro avg       0.55      0.53      0.53       555\n",
      "      weighted avg       0.54      0.52      0.52       555\n",
      "\n",
      "Results of Logistic Regression\n"
     ]
    },
    {
     "name": "stderr",
     "output_type": "stream",
     "text": [
      "/Users/shauryaluthra/anaconda3/lib/python3.7/site-packages/sklearn/linear_model/logistic.py:432: FutureWarning: Default solver will be changed to 'lbfgs' in 0.22. Specify a solver to silence this warning.\n",
      "  FutureWarning)\n",
      "/Users/shauryaluthra/anaconda3/lib/python3.7/site-packages/sklearn/linear_model/logistic.py:469: FutureWarning: Default multi_class will be changed to 'auto' in 0.22. Specify the multi_class option to silence this warning.\n",
      "  \"this warning.\", FutureWarning)\n"
     ]
    },
    {
     "name": "stdout",
     "output_type": "stream",
     "text": [
      "accuracy 0.5171171171171172\n",
      "                    precision    recall  f1-score   support\n",
      "\n",
      "               AMA       0.71      0.72      0.71        57\n",
      "    Policy/Economy       0.30      0.33      0.31        40\n",
      "     Non Political       0.53      0.52      0.52        54\n",
      "Science/Technology       0.36      0.56      0.44        54\n",
      "          Politics       0.55      0.55      0.55        49\n",
      "       Coronavirus       0.18      0.20      0.19        41\n",
      "          AskIndia       0.65      0.62      0.64        48\n",
      "  Business/Finance       0.57      0.47      0.52        53\n",
      "              Food       0.57      0.52      0.55        52\n",
      "       Photography       0.52      0.48      0.50        48\n",
      "            Sports       0.81      0.57      0.67        53\n",
      "     [R]eddiquette       0.83      0.83      0.83         6\n",
      "\n",
      "          accuracy                           0.52       555\n",
      "         macro avg       0.55      0.53      0.54       555\n",
      "      weighted avg       0.54      0.52      0.52       555\n",
      "\n",
      "Results of Random Forest\n",
      "accuracy 0.5261261261261261\n",
      "                    precision    recall  f1-score   support\n",
      "\n",
      "               AMA       0.62      0.70      0.66        57\n",
      "    Policy/Economy       0.36      0.35      0.35        40\n",
      "     Non Political       0.67      0.52      0.58        54\n",
      "Science/Technology       0.35      0.65      0.46        54\n",
      "          Politics       0.64      0.57      0.60        49\n",
      "       Coronavirus       0.14      0.12      0.13        41\n",
      "          AskIndia       0.46      0.77      0.57        48\n",
      "  Business/Finance       0.65      0.38      0.48        53\n",
      "              Food       0.60      0.56      0.58        52\n",
      "       Photography       0.74      0.42      0.53        48\n",
      "            Sports       0.82      0.58      0.68        53\n",
      "     [R]eddiquette       1.00      0.83      0.91         6\n",
      "\n",
      "          accuracy                           0.53       555\n",
      "         macro avg       0.59      0.54      0.54       555\n",
      "      weighted avg       0.57      0.53      0.53       555\n",
      "\n",
      "Results of MLP Classifier\n",
      "accuracy 0.4198198198198198\n",
      "                    precision    recall  f1-score   support\n",
      "\n",
      "               AMA       0.52      0.53      0.52        57\n",
      "    Policy/Economy       0.11      0.17      0.14        40\n",
      "     Non Political       0.56      0.33      0.42        54\n",
      "Science/Technology       0.32      0.50      0.39        54\n",
      "          Politics       0.58      0.43      0.49        49\n",
      "       Coronavirus       0.21      0.17      0.19        41\n",
      "          AskIndia       0.83      0.50      0.62        48\n",
      "  Business/Finance       0.47      0.42      0.44        53\n",
      "              Food       0.42      0.48      0.45        52\n",
      "       Photography       0.34      0.60      0.44        48\n",
      "            Sports       0.77      0.38      0.51        53\n",
      "     [R]eddiquette       1.00      0.50      0.67         6\n",
      "\n",
      "          accuracy                           0.42       555\n",
      "         macro avg       0.51      0.42      0.44       555\n",
      "      weighted avg       0.48      0.42      0.43       555\n",
      "\n",
      "Results of AdaBoost Classifier\n",
      "accuracy 0.3927927927927928\n",
      "                    precision    recall  f1-score   support\n",
      "\n",
      "               AMA       0.86      0.54      0.67        57\n",
      "    Policy/Economy       0.16      0.23      0.19        40\n",
      "     Non Political       0.48      0.50      0.49        54\n",
      "Science/Technology       0.32      0.33      0.33        54\n",
      "          Politics       0.61      0.35      0.44        49\n",
      "       Coronavirus       0.11      0.49      0.18        41\n",
      "          AskIndia       0.93      0.54      0.68        48\n",
      "  Business/Finance       0.55      0.30      0.39        53\n",
      "              Food       0.47      0.37      0.41        52\n",
      "       Photography       0.75      0.31      0.44        48\n",
      "            Sports       0.95      0.38      0.54        53\n",
      "     [R]eddiquette       0.00      0.00      0.00         6\n",
      "\n",
      "          accuracy                           0.39       555\n",
      "         macro avg       0.52      0.36      0.40       555\n",
      "      weighted avg       0.57      0.39      0.44       555\n",
      "\n",
      "Results of GradientBoost Classifier\n"
     ]
    },
    {
     "name": "stderr",
     "output_type": "stream",
     "text": [
      "/Users/shauryaluthra/anaconda3/lib/python3.7/site-packages/sklearn/metrics/classification.py:1437: UndefinedMetricWarning: Precision and F-score are ill-defined and being set to 0.0 in labels with no predicted samples.\n",
      "  'precision', 'predicted', average, warn_for)\n"
     ]
    },
    {
     "name": "stdout",
     "output_type": "stream",
     "text": [
      "accuracy 0.47387387387387386\n",
      "                    precision    recall  f1-score   support\n",
      "\n",
      "               AMA       0.76      0.67      0.71        57\n",
      "    Policy/Economy       0.22      0.33      0.26        40\n",
      "     Non Political       0.60      0.52      0.55        54\n",
      "Science/Technology       0.32      0.48      0.38        54\n",
      "          Politics       0.54      0.51      0.53        49\n",
      "       Coronavirus       0.12      0.20      0.15        41\n",
      "          AskIndia       0.80      0.67      0.73        48\n",
      "  Business/Finance       0.47      0.36      0.41        53\n",
      "              Food       0.44      0.35      0.39        52\n",
      "       Photography       0.59      0.46      0.52        48\n",
      "            Sports       0.81      0.55      0.65        53\n",
      "     [R]eddiquette       0.50      0.83      0.62         6\n",
      "\n",
      "          accuracy                           0.47       555\n",
      "         macro avg       0.51      0.49      0.49       555\n",
      "      weighted avg       0.53      0.47      0.49       555\n",
      "\n",
      "Results of KNN Classifier\n",
      "accuracy 0.3837837837837838\n",
      "                    precision    recall  f1-score   support\n",
      "\n",
      "               AMA       0.24      0.72      0.36        57\n",
      "    Policy/Economy       0.18      0.28      0.22        40\n",
      "     Non Political       0.52      0.31      0.39        54\n",
      "Science/Technology       0.38      0.17      0.23        54\n",
      "          Politics       0.53      0.51      0.52        49\n",
      "       Coronavirus       0.14      0.05      0.07        41\n",
      "          AskIndia       0.68      0.62      0.65        48\n",
      "  Business/Finance       0.44      0.43      0.44        53\n",
      "              Food       0.34      0.19      0.25        52\n",
      "       Photography       0.39      0.40      0.39        48\n",
      "            Sports       0.78      0.40      0.53        53\n",
      "     [R]eddiquette       0.83      0.83      0.83         6\n",
      "\n",
      "          accuracy                           0.38       555\n",
      "         macro avg       0.45      0.41      0.41       555\n",
      "      weighted avg       0.43      0.38      0.38       555\n",
      "\n"
     ]
    }
   ],
   "source": [
    "print(\"Flair Detection using Comments as Feature\")\n",
    "train_test(comments, to_predict)"
   ]
  },
  {
   "cell_type": "markdown",
   "metadata": {},
   "source": [
    "#### The below code prints the test accuracy for all the ML models taken into consideration when the post title, post body, post url and post comments are considered as a feature"
   ]
  },
  {
   "cell_type": "code",
   "execution_count": 64,
   "metadata": {
    "scrolled": false
   },
   "outputs": [
    {
     "name": "stdout",
     "output_type": "stream",
     "text": [
      "Flair Detection using Combined Features\n",
      "Results of Naive Bayes Classifier\n",
      "accuracy 0.6252252252252253\n",
      "                    precision    recall  f1-score   support\n",
      "\n",
      "               AMA       0.48      0.81      0.61        57\n",
      "    Policy/Economy       0.31      0.57      0.40        40\n",
      "     Non Political       0.65      0.72      0.68        54\n",
      "Science/Technology       0.88      0.65      0.74        54\n",
      "          Politics       0.79      0.63      0.70        49\n",
      "       Coronavirus       0.80      0.29      0.43        41\n",
      "          AskIndia       0.94      0.62      0.75        48\n",
      "  Business/Finance       0.53      0.79      0.63        53\n",
      "              Food       0.64      0.65      0.65        52\n",
      "       Photography       0.73      0.62      0.67        48\n",
      "            Sports       1.00      0.47      0.64        53\n",
      "     [R]eddiquette       0.00      0.00      0.00         6\n",
      "\n",
      "          accuracy                           0.63       555\n",
      "         macro avg       0.65      0.57      0.58       555\n",
      "      weighted avg       0.70      0.63      0.63       555\n",
      "\n",
      "Results of Linear Support Vector Machine\n"
     ]
    },
    {
     "name": "stderr",
     "output_type": "stream",
     "text": [
      "/Users/shauryaluthra/anaconda3/lib/python3.7/site-packages/sklearn/metrics/classification.py:1437: UndefinedMetricWarning: Precision and F-score are ill-defined and being set to 0.0 in labels with no predicted samples.\n",
      "  'precision', 'predicted', average, warn_for)\n"
     ]
    },
    {
     "name": "stdout",
     "output_type": "stream",
     "text": [
      "accuracy 0.7567567567567568\n",
      "                    precision    recall  f1-score   support\n",
      "\n",
      "               AMA       0.86      0.75      0.80        57\n",
      "    Policy/Economy       0.52      0.82      0.63        40\n",
      "     Non Political       0.73      0.69      0.70        54\n",
      "Science/Technology       0.87      0.85      0.86        54\n",
      "          Politics       0.88      0.86      0.87        49\n",
      "       Coronavirus       0.58      0.73      0.65        41\n",
      "          AskIndia       0.95      0.73      0.82        48\n",
      "  Business/Finance       0.69      0.70      0.69        53\n",
      "              Food       0.67      0.75      0.71        52\n",
      "       Photography       0.81      0.81      0.81        48\n",
      "            Sports       0.97      0.66      0.79        53\n",
      "     [R]eddiquette       1.00      0.67      0.80         6\n",
      "\n",
      "          accuracy                           0.76       555\n",
      "         macro avg       0.79      0.75      0.76       555\n",
      "      weighted avg       0.78      0.76      0.76       555\n",
      "\n",
      "Results of SGDC\n",
      "accuracy 0.7981981981981981\n",
      "                    precision    recall  f1-score   support\n",
      "\n",
      "               AMA       0.81      0.84      0.83        57\n",
      "    Policy/Economy       0.76      0.62      0.68        40\n",
      "     Non Political       0.75      0.70      0.72        54\n",
      "Science/Technology       0.82      0.91      0.86        54\n",
      "          Politics       0.79      0.92      0.85        49\n",
      "       Coronavirus       0.79      0.76      0.77        41\n",
      "          AskIndia       0.91      0.88      0.89        48\n",
      "  Business/Finance       0.68      0.72      0.70        53\n",
      "              Food       0.76      0.79      0.77        52\n",
      "       Photography       0.77      0.83      0.80        48\n",
      "            Sports       0.95      0.77      0.85        53\n",
      "     [R]eddiquette       1.00      0.83      0.91         6\n",
      "\n",
      "          accuracy                           0.80       555\n",
      "         macro avg       0.82      0.80      0.80       555\n",
      "      weighted avg       0.80      0.80      0.80       555\n",
      "\n",
      "Results of Logistic Regression\n"
     ]
    },
    {
     "name": "stderr",
     "output_type": "stream",
     "text": [
      "/Users/shauryaluthra/anaconda3/lib/python3.7/site-packages/sklearn/linear_model/logistic.py:432: FutureWarning: Default solver will be changed to 'lbfgs' in 0.22. Specify a solver to silence this warning.\n",
      "  FutureWarning)\n",
      "/Users/shauryaluthra/anaconda3/lib/python3.7/site-packages/sklearn/linear_model/logistic.py:469: FutureWarning: Default multi_class will be changed to 'auto' in 0.22. Specify the multi_class option to silence this warning.\n",
      "  \"this warning.\", FutureWarning)\n"
     ]
    },
    {
     "name": "stdout",
     "output_type": "stream",
     "text": [
      "accuracy 0.781981981981982\n",
      "                    precision    recall  f1-score   support\n",
      "\n",
      "               AMA       0.82      0.86      0.84        57\n",
      "    Policy/Economy       0.59      0.75      0.66        40\n",
      "     Non Political       0.72      0.67      0.69        54\n",
      "Science/Technology       0.89      0.87      0.88        54\n",
      "          Politics       0.86      0.88      0.87        49\n",
      "       Coronavirus       0.72      0.76      0.74        41\n",
      "          AskIndia       0.87      0.83      0.85        48\n",
      "  Business/Finance       0.67      0.64      0.65        53\n",
      "              Food       0.77      0.77      0.77        52\n",
      "       Photography       0.73      0.79      0.76        48\n",
      "            Sports       0.98      0.77      0.86        53\n",
      "     [R]eddiquette       1.00      0.83      0.91         6\n",
      "\n",
      "          accuracy                           0.78       555\n",
      "         macro avg       0.80      0.79      0.79       555\n",
      "      weighted avg       0.79      0.78      0.78       555\n",
      "\n",
      "Results of Random Forest\n",
      "accuracy 0.8144144144144144\n",
      "                    precision    recall  f1-score   support\n",
      "\n",
      "               AMA       0.75      0.84      0.79        57\n",
      "    Policy/Economy       0.77      0.93      0.84        40\n",
      "     Non Political       0.86      0.70      0.78        54\n",
      "Science/Technology       0.79      0.85      0.82        54\n",
      "          Politics       0.84      0.86      0.85        49\n",
      "       Coronavirus       0.71      0.78      0.74        41\n",
      "          AskIndia       0.91      0.90      0.91        48\n",
      "  Business/Finance       0.70      0.70      0.70        53\n",
      "              Food       0.82      0.77      0.79        52\n",
      "       Photography       0.84      0.88      0.86        48\n",
      "            Sports       1.00      0.79      0.88        53\n",
      "     [R]eddiquette       1.00      0.83      0.91         6\n",
      "\n",
      "          accuracy                           0.81       555\n",
      "         macro avg       0.83      0.82      0.82       555\n",
      "      weighted avg       0.82      0.81      0.81       555\n",
      "\n",
      "Results of MLP Classifier\n",
      "accuracy 0.6018018018018018\n",
      "                    precision    recall  f1-score   support\n",
      "\n",
      "               AMA       0.59      0.65      0.62        57\n",
      "    Policy/Economy       0.27      0.75      0.39        40\n",
      "     Non Political       0.69      0.57      0.63        54\n",
      "Science/Technology       0.79      0.81      0.80        54\n",
      "          Politics       0.81      0.59      0.68        49\n",
      "       Coronavirus       0.61      0.34      0.44        41\n",
      "          AskIndia       0.86      0.67      0.75        48\n",
      "  Business/Finance       0.41      0.57      0.48        53\n",
      "              Food       0.68      0.48      0.56        52\n",
      "       Photography       0.90      0.58      0.71        48\n",
      "            Sports       0.78      0.55      0.64        53\n",
      "     [R]eddiquette       1.00      0.83      0.91         6\n",
      "\n",
      "          accuracy                           0.60       555\n",
      "         macro avg       0.70      0.62      0.63       555\n",
      "      weighted avg       0.68      0.60      0.62       555\n",
      "\n",
      "Results of AdaBoost Classifier\n",
      "accuracy 0.6198198198198198\n",
      "                    precision    recall  f1-score   support\n",
      "\n",
      "               AMA       0.58      0.33      0.42        57\n",
      "    Policy/Economy       0.82      0.57      0.68        40\n",
      "     Non Political       0.61      0.83      0.70        54\n",
      "Science/Technology       0.95      0.72      0.82        54\n",
      "          Politics       0.77      0.67      0.72        49\n",
      "       Coronavirus       0.30      0.51      0.38        41\n",
      "          AskIndia       0.69      0.69      0.69        48\n",
      "  Business/Finance       0.40      0.45      0.42        53\n",
      "              Food       0.39      0.54      0.45        52\n",
      "       Photography       0.95      0.83      0.89        48\n",
      "            Sports       0.85      0.64      0.73        53\n",
      "     [R]eddiquette       1.00      0.83      0.91         6\n",
      "\n",
      "          accuracy                           0.62       555\n",
      "         macro avg       0.69      0.64      0.65       555\n",
      "      weighted avg       0.67      0.62      0.63       555\n",
      "\n",
      "Results of GradientBoost Classifier\n",
      "accuracy 0.8468468468468469\n",
      "                    precision    recall  f1-score   support\n",
      "\n",
      "               AMA       0.94      0.81      0.87        57\n",
      "    Policy/Economy       0.97      0.85      0.91        40\n",
      "     Non Political       0.83      0.83      0.83        54\n",
      "Science/Technology       0.94      0.85      0.89        54\n",
      "          Politics       0.85      0.92      0.88        49\n",
      "       Coronavirus       0.78      0.85      0.81        41\n",
      "          AskIndia       1.00      0.90      0.95        48\n",
      "  Business/Finance       0.75      0.77      0.76        53\n",
      "              Food       0.56      0.77      0.65        52\n",
      "       Photography       0.90      0.90      0.90        48\n",
      "            Sports       1.00      0.87      0.93        53\n",
      "     [R]eddiquette       1.00      1.00      1.00         6\n",
      "\n",
      "          accuracy                           0.85       555\n",
      "         macro avg       0.88      0.86      0.86       555\n",
      "      weighted avg       0.86      0.85      0.85       555\n",
      "\n",
      "Results of KNN Classifier\n",
      "accuracy 0.5315315315315315\n",
      "                    precision    recall  f1-score   support\n",
      "\n",
      "               AMA       0.40      0.63      0.49        57\n",
      "    Policy/Economy       0.18      0.35      0.24        40\n",
      "     Non Political       0.57      0.44      0.50        54\n",
      "Science/Technology       0.70      0.69      0.69        54\n",
      "          Politics       0.74      0.65      0.70        49\n",
      "       Coronavirus       0.41      0.17      0.24        41\n",
      "          AskIndia       0.80      0.69      0.74        48\n",
      "  Business/Finance       0.48      0.55      0.51        53\n",
      "              Food       0.64      0.44      0.52        52\n",
      "       Photography       0.45      0.52      0.48        48\n",
      "            Sports       0.86      0.57      0.68        53\n",
      "     [R]eddiquette       1.00      0.83      0.91         6\n",
      "\n",
      "          accuracy                           0.53       555\n",
      "         macro avg       0.60      0.54      0.56       555\n",
      "      weighted avg       0.58      0.53      0.54       555\n",
      "\n"
     ]
    }
   ],
   "source": [
    "print(\"Flair Detection using Combined Features\")\n",
    "train_test(combined, to_predict)"
   ]
  },
  {
   "cell_type": "markdown",
   "metadata": {},
   "source": [
    "#### Gradient Boost and Random Forest gave the best accuracy and we have saved those models for future predictions. "
   ]
  },
  {
   "cell_type": "code",
   "execution_count": 65,
   "metadata": {},
   "outputs": [],
   "source": [
    "X_train, X_test, y_train, y_test = train_test_split(combined, to_predict, test_size = 0.25, random_state = 42)\n",
    "ranfor = Pipeline([('vect', CountVectorizer()), ('tfidf', TfidfTransformer()), ('clf', RandomForestClassifier(n_estimators = 1000, random_state = 42)),])\n",
    "ranfor_fit = ranfor.fit(X_train, y_train)\n",
    "pickle.dump(ranfor_fit, open('Random Forest.pkl', 'wb'))\n",
    "y_pred = ranfor.predict(X_test)"
   ]
  },
  {
   "cell_type": "code",
   "execution_count": 66,
   "metadata": {},
   "outputs": [],
   "source": [
    "X_train, X_test, y_train, y_test = train_test_split(combined, to_predict, test_size = 0.25, random_state = 42)\n",
    "gb_classifier = Pipeline([('vect', CountVectorizer()), ('tfidf', TfidfTransformer()), ('clf', GradientBoostingClassifier(n_estimators = 100, learning_rate = 0.1)),])\n",
    "gb_classifier_fit = gb_classifier.fit(X_train, y_train)\n",
    "pickle.dump(gb_classifier_fit, open('Gradient Boosting.pkl', 'wb'))\n",
    "y_pred = gb_classifier.predict(X_test)"
   ]
  },
  {
   "cell_type": "code",
   "execution_count": 68,
   "metadata": {},
   "outputs": [
    {
     "name": "stdout",
     "output_type": "stream",
     "text": [
      "0.836036036036036\n"
     ]
    }
   ],
   "source": [
    "load_model = pickle.load(open('Gradient Boosting.pkl', 'rb'))\n",
    "result = load_model.score(X_test, y_test)\n",
    "print(result)"
   ]
  },
  {
   "cell_type": "markdown",
   "metadata": {},
   "source": [
    "#### We have got a testing accuracy of about 84% when we use the Gradient Boost algorithm. Now we'll load the model and predict the flair of a completely unknown Reddit post"
   ]
  },
  {
   "cell_type": "markdown",
   "metadata": {},
   "source": [
    "#### Loading the Model"
   ]
  },
  {
   "cell_type": "code",
   "execution_count": 69,
   "metadata": {},
   "outputs": [],
   "source": [
    "model = pickle.load(open('Gradient Boosting.pkl', 'rb'))"
   ]
  },
  {
   "cell_type": "markdown",
   "metadata": {},
   "source": [
    "#### Predicting Reddit Flair"
   ]
  },
  {
   "cell_type": "code",
   "execution_count": 70,
   "metadata": {},
   "outputs": [],
   "source": [
    "reddit = praw.Reddit(client_id = '2d0GPjug_U7kaQ', client_secret = 'slwg95MGliJJAFwnh6kK7XziIY8', user_agent = 'Test_API', username = \"Shaurya_L\", password = \"123456\")\n",
    "\n",
    "def prediction(url):\n",
    "    submission = reddit.submission(url = url)\n",
    "    data = {}\n",
    "    data['Post_Title'] = str(submission.title)\n",
    "    data['Post_URL'] = str(submission.url)\n",
    "    data['Post_Body'] = str(submission.selftext)\n",
    "\n",
    "    submission.comments.replace_more(limit = None)\n",
    "    comment = ''\n",
    "    count = 0\n",
    "    \n",
    "    for top_comment in submission.comments:\n",
    "        comment = comment + ' ' + top_comment.body\n",
    "        count+=1\n",
    "        if(count > 10):\n",
    "            break\n",
    "\n",
    "    data[\"Post_Comments\"] = str(comment)\n",
    "\n",
    "    data['Post_Title'] = clean_text(str(data['Post_Title']))\n",
    "    data['Post_Body'] = clean_text(str(data['Post_Body']))\n",
    "    data['Post_Comments'] = clean_text(str(data['Post_Comments']))\n",
    "\n",
    "    combined_features = data['Post_Title'] + data['Post_Comments'] + data['Post_Body'] + data['Post_URL']\n",
    "\n",
    "    return model.predict([combined_features])"
   ]
  },
  {
   "cell_type": "code",
   "execution_count": 71,
   "metadata": {},
   "outputs": [
    {
     "data": {
      "text/plain": [
       "array(['Coronavirus'], dtype=object)"
      ]
     },
     "execution_count": 71,
     "metadata": {},
     "output_type": "execute_result"
    }
   ],
   "source": [
    "url = 'https://www.reddit.com/r/politics/comments/g4izpt/kentucky_reports_highest_coronavirus_infection/'\n",
    "prediction(url)"
   ]
  },
  {
   "cell_type": "markdown",
   "metadata": {},
   "source": [
    "#### The model was correctly able to predict the flair of the Reddit post as 'Coronavirus' "
   ]
  },
  {
   "cell_type": "code",
   "execution_count": null,
   "metadata": {},
   "outputs": [],
   "source": []
  }
 ],
 "metadata": {
  "kernelspec": {
   "display_name": "Python 3",
   "language": "python",
   "name": "python3"
  },
  "language_info": {
   "codemirror_mode": {
    "name": "ipython",
    "version": 3
   },
   "file_extension": ".py",
   "mimetype": "text/x-python",
   "name": "python",
   "nbconvert_exporter": "python",
   "pygments_lexer": "ipython3",
   "version": "3.7.2"
  }
 },
 "nbformat": 4,
 "nbformat_minor": 2
}
