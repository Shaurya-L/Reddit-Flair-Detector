{
 "cells": [
  {
   "cell_type": "markdown",
   "metadata": {},
   "source": [
    "### Importing Libraries for Data Extraction"
   ]
  },
  {
   "cell_type": "code",
   "execution_count": 1,
   "metadata": {},
   "outputs": [],
   "source": [
    "# Libraries\n",
    "import pandas as pd\n",
    "\n",
    "import praw"
   ]
  },
  {
   "cell_type": "markdown",
   "metadata": {},
   "source": [
    "### Data Extraction Part 1\n",
    "#### We'll be going through the hot, new, controversial, top of Reddit India and collect as much data as we can. For this we'll be using the praw library which is the Python Reddit API Wrapper. "
   ]
  },
  {
   "cell_type": "code",
   "execution_count": 2,
   "metadata": {},
   "outputs": [],
   "source": [
    "# Creating a reddit instance\n",
    "reddit = praw.Reddit(client_id = '2d0GPjug_U7kaQ', client_secret = 'slwg95MGliJJAFwnh6kK7XziIY8', user_agent = 'Test_API', username = \"Shaurya_L\", password = \"123456\")"
   ]
  },
  {
   "cell_type": "code",
   "execution_count": 3,
   "metadata": {},
   "outputs": [],
   "source": [
    "# Using the reddit instance to create a subreddit instance\n",
    "subreddit_india = reddit.subreddit('india')"
   ]
  },
  {
   "cell_type": "code",
   "execution_count": 4,
   "metadata": {},
   "outputs": [],
   "source": [
    "reddit_posts = []\n",
    "\n",
    "\n",
    "for post in subreddit_india.hot(limit = 1000):\n",
    "    reddit_posts.append([post.title, post.score, post.id, post.url, post.num_comments, post.selftext, post.link_flair_text])\n",
    "posts = pd.DataFrame(reddit_posts, columns = ['Post_Title', 'Post_Score', 'Post_ID', 'Post_URL', 'Number_of_Comments_on_Post', 'Post_Body', 'Post_Flair'])\n",
    "\n",
    "\n",
    "for post in subreddit_india.new(limit = 1000):\n",
    "    if post.id not in posts['Post_ID'].unique():\n",
    "        reddit_posts.append([post.title, post.score, post.id, post.url, post.num_comments, post.selftext, post.link_flair_text])\n",
    "posts = pd.DataFrame(reddit_posts, columns = ['Post_Title', 'Post_Score', 'Post_ID', 'Post_URL', 'Number_of_Comments_on_Post', 'Post_Body', 'Post_Flair'])\n",
    "\n",
    "\n",
    "for post in subreddit_india.controversial(limit = 1000):\n",
    "    if post.id not in posts['Post_ID'].unique():\n",
    "        reddit_posts.append([post.title, post.score, post.id, post.url, post.num_comments, post.selftext, post.link_flair_text])\n",
    "posts = pd.DataFrame(reddit_posts, columns = ['Post_Title', 'Post_Score', 'Post_ID', 'Post_URL', 'Number_of_Comments_on_Post', 'Post_Body', 'Post_Flair'])\n",
    "\n",
    "\n",
    "for post in subreddit_india.top(limit = 1000):\n",
    "    if post.id not in posts['Post_ID'].unique():\n",
    "        reddit_posts.append([post.title, post.score, post.id, post.url, post.num_comments, post.selftext, post.link_flair_text])\n",
    "posts = pd.DataFrame(reddit_posts, columns = ['Post_Title', 'Post_Score', 'Post_ID', 'Post_URL', 'Number_of_Comments_on_Post', 'Post_Body', 'Post_Flair'])\n",
    "\n",
    "\n",
    "# post.title - Title of the Reddit post\n",
    "# post.score - The difference b/w the number of upvotes and downvotes on a particular post\n",
    "# post.id - Unique id given to each Reddit post\n",
    "# post.url - URL to directly refer to the Reddit post\n",
    "# post.num_comments - Number of comments on the Reddit post\n",
    "# post.selftext - Body of the Reddit post\n",
    "# post.link_flair_text - Flair of the Reddit post like Politics, AskIndia, Economy, etc"
   ]
  },
  {
   "cell_type": "code",
   "execution_count": 5,
   "metadata": {},
   "outputs": [],
   "source": [
    "# Converting posts to a .csv file\n",
    "posts.to_csv('posts_data.csv')"
   ]
  },
  {
   "cell_type": "code",
   "execution_count": 6,
   "metadata": {},
   "outputs": [],
   "source": [
    "# Storing posts_data in a dataframe df\n",
    "posts_data = pd.read_csv('posts_data.csv')"
   ]
  },
  {
   "cell_type": "code",
   "execution_count": 7,
   "metadata": {},
   "outputs": [
    {
     "data": {
      "text/html": [
       "<div>\n",
       "<style scoped>\n",
       "    .dataframe tbody tr th:only-of-type {\n",
       "        vertical-align: middle;\n",
       "    }\n",
       "\n",
       "    .dataframe tbody tr th {\n",
       "        vertical-align: top;\n",
       "    }\n",
       "\n",
       "    .dataframe thead th {\n",
       "        text-align: right;\n",
       "    }\n",
       "</style>\n",
       "<table border=\"1\" class=\"dataframe\">\n",
       "  <thead>\n",
       "    <tr style=\"text-align: right;\">\n",
       "      <th></th>\n",
       "      <th>Unnamed: 0</th>\n",
       "      <th>Post_Title</th>\n",
       "      <th>Post_Score</th>\n",
       "      <th>Post_ID</th>\n",
       "      <th>Post_URL</th>\n",
       "      <th>Number_of_Comments_on_Post</th>\n",
       "      <th>Post_Body</th>\n",
       "      <th>Post_Flair</th>\n",
       "    </tr>\n",
       "  </thead>\n",
       "  <tbody>\n",
       "    <tr>\n",
       "      <th>0</th>\n",
       "      <td>0</td>\n",
       "      <td>Coronavirus (COVID-19) Megathread - News and U...</td>\n",
       "      <td>106</td>\n",
       "      <td>g1zi21</td>\n",
       "      <td>https://www.reddit.com/r/india/comments/g1zi21...</td>\n",
       "      <td>895</td>\n",
       "      <td>###[Covid-19 Fundraisers &amp; Donation Links](htt...</td>\n",
       "      <td>Coronavirus</td>\n",
       "    </tr>\n",
       "    <tr>\n",
       "      <th>1</th>\n",
       "      <td>1</td>\n",
       "      <td>Announcing r/IndiaMeme, our own sub for memes ...</td>\n",
       "      <td>267</td>\n",
       "      <td>fzub9j</td>\n",
       "      <td>https://www.reddit.com/r/india/comments/fzub9j...</td>\n",
       "      <td>75</td>\n",
       "      <td>HELLO YOU NICE PEOPLE. WE GOT REALLY TIRED OF ...</td>\n",
       "      <td>Announcement</td>\n",
       "    </tr>\n",
       "    <tr>\n",
       "      <th>2</th>\n",
       "      <td>2</td>\n",
       "      <td>Mumbai: Delivery boy held for spitting on Mani...</td>\n",
       "      <td>877</td>\n",
       "      <td>g3hqbs</td>\n",
       "      <td>https://timesofindia.indiatimes.com/city/mumba...</td>\n",
       "      <td>77</td>\n",
       "      <td>NaN</td>\n",
       "      <td>Coronavirus</td>\n",
       "    </tr>\n",
       "    <tr>\n",
       "      <th>3</th>\n",
       "      <td>3</td>\n",
       "      <td>COVID-19: Doctors worry as India’s West Bengal...</td>\n",
       "      <td>487</td>\n",
       "      <td>g3iku3</td>\n",
       "      <td>https://gulfnews.com/world/asia/india/covid-19...</td>\n",
       "      <td>42</td>\n",
       "      <td>NaN</td>\n",
       "      <td>Coronavirus</td>\n",
       "    </tr>\n",
       "    <tr>\n",
       "      <th>4</th>\n",
       "      <td>4</td>\n",
       "      <td>Infected pizza boy: Online food delivery order...</td>\n",
       "      <td>383</td>\n",
       "      <td>g3iu9p</td>\n",
       "      <td>https://timesofindia.indiatimes.com/business/i...</td>\n",
       "      <td>77</td>\n",
       "      <td>NaN</td>\n",
       "      <td>Coronavirus</td>\n",
       "    </tr>\n",
       "  </tbody>\n",
       "</table>\n",
       "</div>"
      ],
      "text/plain": [
       "   Unnamed: 0                                         Post_Title  Post_Score  \\\n",
       "0           0  Coronavirus (COVID-19) Megathread - News and U...         106   \n",
       "1           1  Announcing r/IndiaMeme, our own sub for memes ...         267   \n",
       "2           2  Mumbai: Delivery boy held for spitting on Mani...         877   \n",
       "3           3  COVID-19: Doctors worry as India’s West Bengal...         487   \n",
       "4           4  Infected pizza boy: Online food delivery order...         383   \n",
       "\n",
       "  Post_ID                                           Post_URL  \\\n",
       "0  g1zi21  https://www.reddit.com/r/india/comments/g1zi21...   \n",
       "1  fzub9j  https://www.reddit.com/r/india/comments/fzub9j...   \n",
       "2  g3hqbs  https://timesofindia.indiatimes.com/city/mumba...   \n",
       "3  g3iku3  https://gulfnews.com/world/asia/india/covid-19...   \n",
       "4  g3iu9p  https://timesofindia.indiatimes.com/business/i...   \n",
       "\n",
       "   Number_of_Comments_on_Post  \\\n",
       "0                         895   \n",
       "1                          75   \n",
       "2                          77   \n",
       "3                          42   \n",
       "4                          77   \n",
       "\n",
       "                                           Post_Body    Post_Flair  \n",
       "0  ###[Covid-19 Fundraisers & Donation Links](htt...   Coronavirus  \n",
       "1  HELLO YOU NICE PEOPLE. WE GOT REALLY TIRED OF ...  Announcement  \n",
       "2                                                NaN   Coronavirus  \n",
       "3                                                NaN   Coronavirus  \n",
       "4                                                NaN   Coronavirus  "
      ]
     },
     "execution_count": 7,
     "metadata": {},
     "output_type": "execute_result"
    }
   ],
   "source": [
    "# Printing first 5 rows from posts_data\n",
    "posts_data.head()"
   ]
  },
  {
   "cell_type": "code",
   "execution_count": 8,
   "metadata": {},
   "outputs": [
    {
     "data": {
      "text/plain": [
       "array(['Coronavirus', 'Announcement', 'Business/Finance', 'Non-Political',\n",
       "       'Politics', 'CAA-NRC-NPR', 'Policy/Economy', 'AskIndia', 'Old',\n",
       "       'Science/Technology', 'Food', 'Photography', nan, 'Scheduled',\n",
       "       'Sports', '| Repost |', '| Not specific to India |',\n",
       "       'Post link Directly', '[R]eddiquette', 'Misleading', 'Moderated',\n",
       "       'Policy', 'Policy & Economy', 'AMA Concluded',\n",
       "       'Original Content :)', 'Unverified', 'Meta', 'Politics [OLD]',\n",
       "       '[Editorialised]', 'Science & Technology', 'Demonetization',\n",
       "       'CAA-NRC', 'Entertainment', '/r/all', 'r/all',\n",
       "       'Politics [Megathread]', 'Totally real', 'Zoke Tyme',\n",
       "       'Official Sadness Thread', 'Politics -- Source in comments',\n",
       "       'Policy/Economy -2017 Article ', 'Original Comics',\n",
       "       'Misleading Headline ', 'OC', 'On Internet Shutdowns', 'Lifehacks',\n",
       "       'AMA', '40 Martyrs', 'Goal Achieved!!!'], dtype=object)"
      ]
     },
     "execution_count": 8,
     "metadata": {},
     "output_type": "execute_result"
    }
   ],
   "source": [
    "# Extracting unique values from Post_Flair column\n",
    "posts_data['Post_Flair'].unique()"
   ]
  },
  {
   "cell_type": "code",
   "execution_count": 9,
   "metadata": {},
   "outputs": [
    {
     "data": {
      "text/plain": [
       "48"
      ]
     },
     "execution_count": 9,
     "metadata": {},
     "output_type": "execute_result"
    }
   ],
   "source": [
    "# Number of unique flairs\n",
    "posts_data['Post_Flair'].nunique()"
   ]
  },
  {
   "cell_type": "code",
   "execution_count": 10,
   "metadata": {},
   "outputs": [
    {
     "data": {
      "text/plain": [
       "(2827, 8)"
      ]
     },
     "execution_count": 10,
     "metadata": {},
     "output_type": "execute_result"
    }
   ],
   "source": [
    "# Printing data shape\n",
    "posts_data.shape"
   ]
  },
  {
   "cell_type": "code",
   "execution_count": 12,
   "metadata": {},
   "outputs": [
    {
     "data": {
      "text/plain": [
       "<matplotlib.axes._subplots.AxesSubplot at 0x110456c18>"
      ]
     },
     "execution_count": 12,
     "metadata": {},
     "output_type": "execute_result"
    },
    {
     "data": {
      "image/png": "[encoded data removed]",
      "text/plain": [
       "<Figure size 432x288 with 1 Axes>"
      ]
     },
     "metadata": {
      "needs_background": "light"
     },
     "output_type": "display_data"
    }
   ],
   "source": [
    "# Plotting bar chart for unique flairs in Post_Flair column and their count \n",
    "pd.value_counts(posts_data['Post_Flair']).plot.bar()"
   ]
  },
  {
   "cell_type": "markdown",
   "metadata": {},
   "source": [
    "#### There are quite a few problems with the data collected. Following are the problems encountered:\n",
    " - A lot of random flairs were encountered. To resolve the problem, some flairs were removed or 2 or more flairs were combined with each other.\n",
    " - Data from 2827 posts was collected. But as seen from above bar plot, data is very unevenly divided. Some flairs have more than 800 instances while some flairs have negligible number of instances as seen from the above bar plot.  "
   ]
  },
  {
   "cell_type": "markdown",
   "metadata": {},
   "source": [
    "#### Some flairs have been completely removed while other flairs were converted to a known flair. Following is the list of flairs that would be used:\n",
    " - AMA - AMA Concluded, Unverified, AMA\n",
    " - Policy/Economy - Policy, Demonitization, Policy & Economy, Policy/Economy -2017 Article, Policy/Economy\n",
    " - Non Political - Non-Political, Entertainment, Misleading, /r/all, r/all  \n",
    " - Science/Technology - Science & Technology, Science/Technology\n",
    " - Politics - Politics, CAA-NRC-NPR, Politics [OLD], Politics -- Source in comments,  Politics [Megathread], CAA-NRC \n",
    " - Coronavirus - Coronavirus\n",
    " - AskIndia - AskIndia\n",
    " - Business/Finance - Business/Finance\n",
    " - Food - Food\n",
    " - Photography - Photography\n",
    " - Sports - Sports\n",
    " - [R]eddiquette - [R]eddiquette"
   ]
  },
  {
   "cell_type": "code",
   "execution_count": 13,
   "metadata": {},
   "outputs": [
    {
     "name": "stderr",
     "output_type": "stream",
     "text": [
      "/Users/shauryaluthra/anaconda3/lib/python3.7/site-packages/ipykernel_launcher.py:4: SettingWithCopyWarning: \n",
      "A value is trying to be set on a copy of a slice from a DataFrame\n",
      "\n",
      "See the caveats in the documentation: http://pandas.pydata.org/pandas-docs/stable/indexing.html#indexing-view-versus-copy\n",
      "  after removing the cwd from sys.path.\n",
      "/Users/shauryaluthra/anaconda3/lib/python3.7/site-packages/ipykernel_launcher.py:11: SettingWithCopyWarning: \n",
      "A value is trying to be set on a copy of a slice from a DataFrame\n",
      "\n",
      "See the caveats in the documentation: http://pandas.pydata.org/pandas-docs/stable/indexing.html#indexing-view-versus-copy\n",
      "  # This is added back by InteractiveShellApp.init_path()\n",
      "/Users/shauryaluthra/anaconda3/lib/python3.7/site-packages/ipykernel_launcher.py:18: SettingWithCopyWarning: \n",
      "A value is trying to be set on a copy of a slice from a DataFrame\n",
      "\n",
      "See the caveats in the documentation: http://pandas.pydata.org/pandas-docs/stable/indexing.html#indexing-view-versus-copy\n",
      "/Users/shauryaluthra/anaconda3/lib/python3.7/site-packages/ipykernel_launcher.py:25: SettingWithCopyWarning: \n",
      "A value is trying to be set on a copy of a slice from a DataFrame\n",
      "\n",
      "See the caveats in the documentation: http://pandas.pydata.org/pandas-docs/stable/indexing.html#indexing-view-versus-copy\n",
      "/Users/shauryaluthra/anaconda3/lib/python3.7/site-packages/ipykernel_launcher.py:32: SettingWithCopyWarning: \n",
      "A value is trying to be set on a copy of a slice from a DataFrame\n",
      "\n",
      "See the caveats in the documentation: http://pandas.pydata.org/pandas-docs/stable/indexing.html#indexing-view-versus-copy\n"
     ]
    }
   ],
   "source": [
    "k = 0\n",
    "for reddit_flair in posts_data['Post_Flair']:\n",
    "    if reddit_flair == 'AMA Concluded' or reddit_flair == 'Unverified' or reddit_flair == 'AMA':\n",
    "        posts_data['Post_Flair'][k] = 'AMA' \n",
    "    k = k + 1\n",
    "\n",
    "\n",
    "k = 0\n",
    "for reddit_flair in posts_data['Post_Flair']:\n",
    "    if reddit_flair == 'Policy' or reddit_flair == 'Demonetization' or reddit_flair == 'Policy & Economy' or  reddit_flair == 'Policy/Economy -2017 Article ' or reddit_flair == 'Policy/Economy':\n",
    "        posts_data['Post_Flair'][k] = 'Policy/Economy' \n",
    "    k = k + 1\n",
    "\n",
    "\n",
    "k = 0\n",
    "for reddit_flair in posts_data['Post_Flair']:\n",
    "    if reddit_flair == 'Non-Political' or reddit_flair == 'Entertainment' or reddit_flair == 'Misleading' or reddit_flair == '/r/all' or reddit_flair == 'r/all':\n",
    "        posts_data['Post_Flair'][k] = 'Non Political' \n",
    "    k = k + 1\n",
    "\n",
    "\n",
    "k = 0\n",
    "for reddit_flair in posts_data['Post_Flair']:\n",
    "    if reddit_flair == 'Science & Technology' or reddit_flair == 'Science/Technology':\n",
    "        posts_data['Post_Flair'][k] = 'Science/Technology' \n",
    "    k = k + 1\n",
    "\n",
    "\n",
    "k = 0\n",
    "for reddit_flair in posts_data['Post_Flair']:\n",
    "    if reddit_flair == 'Politics' or reddit_flair == 'CAA-NRC-NPR' or reddit_flair == 'Politics [OLD]' or reddit_flair == 'Politics -- Source in comments' or reddit_flair == 'Politics [Megathread]' or reddit_flair == 'CAA-NRC':\n",
    "        posts_data['Post_Flair'][k] = 'Politics' \n",
    "    k = k + 1\n",
    "\n",
    "\n",
    "reddit_flair_list = ['AMA', 'Policy/Economy', 'Non Political', 'Science/Technology', 'Politics', 'Coronavirus', 'AskIndia', 'Business/Finance', 'Food', 'Photography', 'Sports', '[R]eddiquette']\n",
    "\n",
    "# Removing the unwanted flairs and storing the updated data into a new dataframe\n",
    "posts_data_new = posts_data[posts_data.Post_Flair.isin(reddit_flair_list)]"
   ]
  },
  {
   "cell_type": "code",
   "execution_count": 14,
   "metadata": {},
   "outputs": [
    {
     "data": {
      "text/plain": [
       "(2668, 8)"
      ]
     },
     "execution_count": 14,
     "metadata": {},
     "output_type": "execute_result"
    }
   ],
   "source": [
    "posts_data_new.shape"
   ]
  },
  {
   "cell_type": "code",
   "execution_count": 15,
   "metadata": {},
   "outputs": [
    {
     "data": {
      "text/plain": [
       "<matplotlib.axes._subplots.AxesSubplot at 0x110597048>"
      ]
     },
     "execution_count": 15,
     "metadata": {},
     "output_type": "execute_result"
    },
    {
     "data": {
      "image/png": "[encoded data removed]",
      "text/plain": [
       "<Figure size 432x288 with 1 Axes>"
      ]
     },
     "metadata": {
      "needs_background": "light"
     },
     "output_type": "display_data"
    }
   ],
   "source": [
    "pd.value_counts(posts_data_new['Post_Flair']).plot.bar()"
   ]
  },
  {
   "cell_type": "markdown",
   "metadata": {},
   "source": [
    "#### Even after removing some data and combining some flairs, the plot shows that data is still unbalanced and very unevenly divided. Some flairs have more than 800 instances while some flairs have less number of instances. Now we'll try some other method of data extraction."
   ]
  },
  {
   "cell_type": "markdown",
   "metadata": {},
   "source": [
    "### Data Extraction Part 2\n",
    "\n",
    "#### For this we'll iterate through the reddit posts and collect data for the specific flairs. 200 data points have been taken from each flair."
   ]
  },
  {
   "cell_type": "code",
   "execution_count": 48,
   "metadata": {},
   "outputs": [],
   "source": [
    "reddit = praw.Reddit(client_id = '2d0GPjug_U7kaQ', client_secret = 'slwg95MGliJJAFwnh6kK7XziIY8', user_agent = 'Test_API', username = \"Shaurya_L\", password = \"123456\")\n",
    "reddit_flair_list=['AMA', 'Policy/Economy', 'Non Political', 'Science/Technology', 'Politics', 'Coronavirus', 'AskIndia', 'Business/Finance', 'Food', 'Photography', 'Sports', '[R]eddiquette']\n",
    "subreddit = reddit.subreddit('india')\n",
    "data_cols = {\"Post_Flair\":[], \"Post_Title\":[], \"Post_ID\":[], \"Post_Score\":[], \"Post_URL\":[], \"Post_Body\":[], \"Number_of_Comments_on_Post\": [], \"Post_Comments\": []}"
   ]
  },
  {
   "cell_type": "code",
   "execution_count": 8,
   "metadata": {},
   "outputs": [],
   "source": [
    "for reddit_flair in reddit_flair_list:\n",
    "    \n",
    "    get_subreddits = subreddit.search(reddit_flair, limit = 200)\n",
    "  \n",
    "    for submission in get_subreddits:\n",
    "        data_cols[\"Post_Flair\"].append(flair)\n",
    "        data_cols[\"Post_Title\"].append(submission.title)\n",
    "        data_cols[\"Post_ID\"].append(submission.id)\n",
    "        data_cols[\"Post_Score\"].append(submission.score)\n",
    "        data_cols[\"Post_URL\"].append(submission.url)\n",
    "        data_cols[\"Post_Body\"].append(submission.selftext)\n",
    "        data_cols[\"Number_of_Comments_on_Post\"].append(submission.num_comments)\n",
    "    \n",
    "    submission.comments.replace_more(limit = None)\n",
    "    comment = ''\n",
    "    for top_comment in submission.comments:\n",
    "        comment = comment + ' ' + top_comment.body\n",
    "    data_cols[\"Post_Comments\"].append(comment)\n",
    "    \n",
    "# With a submission object we can interact with the CommentForest through the submission’s comments attribute. A \n",
    "# CommentForest is a list of top-level comments each of which contains a CommentForest of replies."
   ]
  },
  {
   "cell_type": "code",
   "execution_count": 9,
   "metadata": {},
   "outputs": [],
   "source": [
    "# Storing the extracted data as a .csv file\n",
    "data = pd.DataFrame(data_cols)\n",
    "data.to_csv('Final Reddit India Data.csv', index = False)"
   ]
  },
  {
   "cell_type": "code",
   "execution_count": 10,
   "metadata": {},
   "outputs": [],
   "source": [
    "# Reading data\n",
    "df = pd.read_csv('Final Reddit India Data.csv')"
   ]
  },
  {
   "cell_type": "code",
   "execution_count": 11,
   "metadata": {},
   "outputs": [
    {
     "data": {
      "text/plain": [
       "<matplotlib.axes._subplots.AxesSubplot at 0x118695f28>"
      ]
     },
     "execution_count": 11,
     "metadata": {},
     "output_type": "execute_result"
    },
    {
     "data": {
      "image/png": "[encoded data removed]",
      "text/plain": [
       "<Figure size 432x288 with 1 Axes>"
      ]
     },
     "metadata": {
      "needs_background": "light"
     },
     "output_type": "display_data"
    }
   ],
   "source": [
    "pd.value_counts(df['Post_Flair']).plot.bar()"
   ]
  },
  {
   "cell_type": "markdown",
   "metadata": {},
   "source": [
    "#### Now the data is more balanced as compared to the previous method of data extraction"
   ]
  },
  {
   "cell_type": "code",
   "execution_count": 12,
   "metadata": {},
   "outputs": [
    {
     "data": {
      "text/plain": [
       "(2218, 8)"
      ]
     },
     "execution_count": 12,
     "metadata": {},
     "output_type": "execute_result"
    }
   ],
   "source": [
    "df.shape"
   ]
  },
  {
   "cell_type": "code",
   "execution_count": null,
   "metadata": {},
   "outputs": [],
   "source": []
  }
 ],
 "metadata": {
  "kernelspec": {
   "display_name": "Python 3",
   "language": "python",
   "name": "python3"
  },
  "language_info": {
   "codemirror_mode": {
    "name": "ipython",
    "version": 3
   },
   "file_extension": ".py",
   "mimetype": "text/x-python",
   "name": "python",
   "nbconvert_exporter": "python",
   "pygments_lexer": "ipython3",
   "version": "3.7.2"
  }
 },
 "nbformat": 4,
 "nbformat_minor": 2
}
